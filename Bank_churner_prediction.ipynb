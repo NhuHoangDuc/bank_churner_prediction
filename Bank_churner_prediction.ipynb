{
  "nbformat": 4,
  "nbformat_minor": 0,
  "metadata": {
    "colab": {
      "name": "Copy of Machine Learning Project",
      "provenance": [],
      "collapsed_sections": []
    },
    "kernelspec": {
      "display_name": "Python 3",
      "name": "python3"
    },
    "language_info": {
      "name": "python"
    }
  },
  "cells": [
    {
      "cell_type": "code",
      "metadata": {
        "id": "Sx0bY2PYS_UL"
      },
      "source": [
        ""
      ],
      "execution_count": null,
      "outputs": []
    },
    {
      "cell_type": "markdown",
      "metadata": {
        "id": "A2Y5avAT9HMy"
      },
      "source": [
        "# **MACHINE LEARNING PROJECT**\n",
        "\n",
        "**BANK CHURNER PREDICTION**\n"
      ]
    },
    {
      "cell_type": "markdown",
      "metadata": {
        "id": "XrjyCzF--E0k"
      },
      "source": [
        "**Introduction**\n",
        "\n",
        "In this project, we'll be building Machine Learning models in order to make predictions about bank churners - whether a customer of the specified bank will churn or not, given data about said customer. \n",
        "\n",
        "Specifically, if provided related data of a particular customer (Education Level, Income Range, and more), would the models built be able to correctly classify that customer into one of the two classes - 'Attrited' or 'Existing'\n",
        "\n",
        "The libraries we'll be using in this project includes **Numpy, Pandas, Scikit Learn, MatPlotLib, and Seaborn. **\n",
        "\n",
        "The dataset that we'll be using to train the data is called **BankChurner.csv**\n",
        "\n"
      ]
    },
    {
      "cell_type": "markdown",
      "metadata": {
        "id": "W8VlNH4HHX3B"
      },
      "source": [
        "# **I.Data Exploration:**\n"
      ]
    },
    {
      "cell_type": "markdown",
      "metadata": {
        "id": "JUH0rMtdzYoY"
      },
      "source": [
        "### 1.Prerequisites:\n",
        "We'll load the required libraries and the dataset itself"
      ]
    },
    {
      "cell_type": "code",
      "metadata": {
        "id": "sSzWlVnJHPjQ"
      },
      "source": [
        "import numpy as np\n",
        "import pandas as pd\n",
        "import matplotlib                 \n",
        "import matplotlib.pyplot as plt\n",
        "import seaborn as sns\n",
        "from collections import Counter"
      ],
      "execution_count": null,
      "outputs": []
    },
    {
      "cell_type": "code",
      "metadata": {
        "id": "k4iAPnZf7mav"
      },
      "source": [
        "from google.colab import drive"
      ],
      "execution_count": null,
      "outputs": []
    },
    {
      "cell_type": "code",
      "metadata": {
        "colab": {
          "base_uri": "https://localhost:8080/"
        },
        "id": "4RJ9hCNRGt4q",
        "outputId": "2ef2153f-8116-4889-8e2a-a532ee24857e"
      },
      "source": [
        "drive.mount('/content/drive')"
      ],
      "execution_count": null,
      "outputs": [
        {
          "output_type": "stream",
          "text": [
            "Mounted at /content/drive\n"
          ],
          "name": "stdout"
        }
      ]
    },
    {
      "cell_type": "code",
      "metadata": {
        "colab": {
          "base_uri": "https://localhost:8080/"
        },
        "id": "pDo2pJ91G4Gh",
        "outputId": "f9148e1f-ee75-40c7-a417-f641627fde89"
      },
      "source": [
        "ls -ltr \"/content/drive/MyDrive/Colab Notebooks\""
      ],
      "execution_count": null,
      "outputs": [
        {
          "output_type": "stream",
          "text": [
            "total 3253\n",
            "-rw------- 1 root root     317 Feb 15 04:04 Untitled0.ipynb\n",
            "-rw------- 1 root root 1818650 Feb 22 05:20 Data_Science_Cheatsheet.pdf\n",
            "-rw------- 1 root root 1510880 Apr 20 08:26 BankChurners.csv\n"
          ],
          "name": "stdout"
        }
      ]
    },
    {
      "cell_type": "markdown",
      "metadata": {
        "id": "hStIc7g5zqv_"
      },
      "source": [
        "## 2.Data Import & Exploration:"
      ]
    },
    {
      "cell_type": "markdown",
      "metadata": {
        "id": "fB7oh3Qh8wJY"
      },
      "source": [
        "We will now proceed to load the data onto a variable **'df'**"
      ]
    },
    {
      "cell_type": "code",
      "metadata": {
        "id": "Ax5bFGZTHdQY"
      },
      "source": [
        "df = pd.read_csv(\"/content/drive/MyDrive/Colab Notebooks/BankChurners.csv\")"
      ],
      "execution_count": null,
      "outputs": []
    },
    {
      "cell_type": "code",
      "metadata": {
        "colab": {
          "base_uri": "https://localhost:8080/",
          "height": 1000
        },
        "id": "0eEzXxu-HrvA",
        "outputId": "fb92ac0e-eaa8-448d-f1de-2beab43a4d24"
      },
      "source": [
        "df.head(20)"
      ],
      "execution_count": null,
      "outputs": [
        {
          "output_type": "execute_result",
          "data": {
            "text/html": [
              "<div>\n",
              "<style scoped>\n",
              "    .dataframe tbody tr th:only-of-type {\n",
              "        vertical-align: middle;\n",
              "    }\n",
              "\n",
              "    .dataframe tbody tr th {\n",
              "        vertical-align: top;\n",
              "    }\n",
              "\n",
              "    .dataframe thead th {\n",
              "        text-align: right;\n",
              "    }\n",
              "</style>\n",
              "<table border=\"1\" class=\"dataframe\">\n",
              "  <thead>\n",
              "    <tr style=\"text-align: right;\">\n",
              "      <th></th>\n",
              "      <th>CLIENTNUM</th>\n",
              "      <th>Attrition_Flag</th>\n",
              "      <th>Customer_Age</th>\n",
              "      <th>Gender</th>\n",
              "      <th>Dependent_count</th>\n",
              "      <th>Education_Level</th>\n",
              "      <th>Marital_Status</th>\n",
              "      <th>Income_Category</th>\n",
              "      <th>Card_Category</th>\n",
              "      <th>Months_on_book</th>\n",
              "      <th>Total_Relationship_Count</th>\n",
              "      <th>Months_Inactive_12_mon</th>\n",
              "      <th>Contacts_Count_12_mon</th>\n",
              "      <th>Credit_Limit</th>\n",
              "      <th>Total_Revolving_Bal</th>\n",
              "      <th>Avg_Open_To_Buy</th>\n",
              "      <th>Total_Amt_Chng_Q4_Q1</th>\n",
              "      <th>Total_Trans_Amt</th>\n",
              "      <th>Total_Trans_Ct</th>\n",
              "      <th>Total_Ct_Chng_Q4_Q1</th>\n",
              "      <th>Avg_Utilization_Ratio</th>\n",
              "      <th>Naive_Bayes_Classifier_Attrition_Flag_Card_Category_Contacts_Count_12_mon_Dependent_count_Education_Level_Months_Inactive_12_mon_1</th>\n",
              "      <th>Naive_Bayes_Classifier_Attrition_Flag_Card_Category_Contacts_Count_12_mon_Dependent_count_Education_Level_Months_Inactive_12_mon_2</th>\n",
              "    </tr>\n",
              "  </thead>\n",
              "  <tbody>\n",
              "    <tr>\n",
              "      <th>0</th>\n",
              "      <td>768805383</td>\n",
              "      <td>Existing Customer</td>\n",
              "      <td>45</td>\n",
              "      <td>M</td>\n",
              "      <td>3</td>\n",
              "      <td>High School</td>\n",
              "      <td>Married</td>\n",
              "      <td>$60K - $80K</td>\n",
              "      <td>Blue</td>\n",
              "      <td>39</td>\n",
              "      <td>5</td>\n",
              "      <td>1</td>\n",
              "      <td>3</td>\n",
              "      <td>12691.0</td>\n",
              "      <td>777</td>\n",
              "      <td>11914.0</td>\n",
              "      <td>1.335</td>\n",
              "      <td>1144</td>\n",
              "      <td>42</td>\n",
              "      <td>1.625</td>\n",
              "      <td>0.061</td>\n",
              "      <td>0.000093</td>\n",
              "      <td>0.99991</td>\n",
              "    </tr>\n",
              "    <tr>\n",
              "      <th>1</th>\n",
              "      <td>818770008</td>\n",
              "      <td>Existing Customer</td>\n",
              "      <td>49</td>\n",
              "      <td>F</td>\n",
              "      <td>5</td>\n",
              "      <td>Graduate</td>\n",
              "      <td>Single</td>\n",
              "      <td>Less than $40K</td>\n",
              "      <td>Blue</td>\n",
              "      <td>44</td>\n",
              "      <td>6</td>\n",
              "      <td>1</td>\n",
              "      <td>2</td>\n",
              "      <td>8256.0</td>\n",
              "      <td>864</td>\n",
              "      <td>7392.0</td>\n",
              "      <td>1.541</td>\n",
              "      <td>1291</td>\n",
              "      <td>33</td>\n",
              "      <td>3.714</td>\n",
              "      <td>0.105</td>\n",
              "      <td>0.000057</td>\n",
              "      <td>0.99994</td>\n",
              "    </tr>\n",
              "    <tr>\n",
              "      <th>2</th>\n",
              "      <td>713982108</td>\n",
              "      <td>Existing Customer</td>\n",
              "      <td>51</td>\n",
              "      <td>M</td>\n",
              "      <td>3</td>\n",
              "      <td>Graduate</td>\n",
              "      <td>Married</td>\n",
              "      <td>$80K - $120K</td>\n",
              "      <td>Blue</td>\n",
              "      <td>36</td>\n",
              "      <td>4</td>\n",
              "      <td>1</td>\n",
              "      <td>0</td>\n",
              "      <td>3418.0</td>\n",
              "      <td>0</td>\n",
              "      <td>3418.0</td>\n",
              "      <td>2.594</td>\n",
              "      <td>1887</td>\n",
              "      <td>20</td>\n",
              "      <td>2.333</td>\n",
              "      <td>0.000</td>\n",
              "      <td>0.000021</td>\n",
              "      <td>0.99998</td>\n",
              "    </tr>\n",
              "    <tr>\n",
              "      <th>3</th>\n",
              "      <td>769911858</td>\n",
              "      <td>Existing Customer</td>\n",
              "      <td>40</td>\n",
              "      <td>F</td>\n",
              "      <td>4</td>\n",
              "      <td>High School</td>\n",
              "      <td>Unknown</td>\n",
              "      <td>Less than $40K</td>\n",
              "      <td>Blue</td>\n",
              "      <td>34</td>\n",
              "      <td>3</td>\n",
              "      <td>4</td>\n",
              "      <td>1</td>\n",
              "      <td>3313.0</td>\n",
              "      <td>2517</td>\n",
              "      <td>796.0</td>\n",
              "      <td>1.405</td>\n",
              "      <td>1171</td>\n",
              "      <td>20</td>\n",
              "      <td>2.333</td>\n",
              "      <td>0.760</td>\n",
              "      <td>0.000134</td>\n",
              "      <td>0.99987</td>\n",
              "    </tr>\n",
              "    <tr>\n",
              "      <th>4</th>\n",
              "      <td>709106358</td>\n",
              "      <td>Existing Customer</td>\n",
              "      <td>40</td>\n",
              "      <td>M</td>\n",
              "      <td>3</td>\n",
              "      <td>Uneducated</td>\n",
              "      <td>Married</td>\n",
              "      <td>$60K - $80K</td>\n",
              "      <td>Blue</td>\n",
              "      <td>21</td>\n",
              "      <td>5</td>\n",
              "      <td>1</td>\n",
              "      <td>0</td>\n",
              "      <td>4716.0</td>\n",
              "      <td>0</td>\n",
              "      <td>4716.0</td>\n",
              "      <td>2.175</td>\n",
              "      <td>816</td>\n",
              "      <td>28</td>\n",
              "      <td>2.500</td>\n",
              "      <td>0.000</td>\n",
              "      <td>0.000022</td>\n",
              "      <td>0.99998</td>\n",
              "    </tr>\n",
              "    <tr>\n",
              "      <th>5</th>\n",
              "      <td>713061558</td>\n",
              "      <td>Existing Customer</td>\n",
              "      <td>44</td>\n",
              "      <td>M</td>\n",
              "      <td>2</td>\n",
              "      <td>Graduate</td>\n",
              "      <td>Married</td>\n",
              "      <td>$40K - $60K</td>\n",
              "      <td>Blue</td>\n",
              "      <td>36</td>\n",
              "      <td>3</td>\n",
              "      <td>1</td>\n",
              "      <td>2</td>\n",
              "      <td>4010.0</td>\n",
              "      <td>1247</td>\n",
              "      <td>2763.0</td>\n",
              "      <td>1.376</td>\n",
              "      <td>1088</td>\n",
              "      <td>24</td>\n",
              "      <td>0.846</td>\n",
              "      <td>0.311</td>\n",
              "      <td>0.000055</td>\n",
              "      <td>0.99994</td>\n",
              "    </tr>\n",
              "    <tr>\n",
              "      <th>6</th>\n",
              "      <td>810347208</td>\n",
              "      <td>Existing Customer</td>\n",
              "      <td>51</td>\n",
              "      <td>M</td>\n",
              "      <td>4</td>\n",
              "      <td>Unknown</td>\n",
              "      <td>Married</td>\n",
              "      <td>$120K +</td>\n",
              "      <td>Gold</td>\n",
              "      <td>46</td>\n",
              "      <td>6</td>\n",
              "      <td>1</td>\n",
              "      <td>3</td>\n",
              "      <td>34516.0</td>\n",
              "      <td>2264</td>\n",
              "      <td>32252.0</td>\n",
              "      <td>1.975</td>\n",
              "      <td>1330</td>\n",
              "      <td>31</td>\n",
              "      <td>0.722</td>\n",
              "      <td>0.066</td>\n",
              "      <td>0.000123</td>\n",
              "      <td>0.99988</td>\n",
              "    </tr>\n",
              "    <tr>\n",
              "      <th>7</th>\n",
              "      <td>818906208</td>\n",
              "      <td>Existing Customer</td>\n",
              "      <td>32</td>\n",
              "      <td>M</td>\n",
              "      <td>0</td>\n",
              "      <td>High School</td>\n",
              "      <td>Unknown</td>\n",
              "      <td>$60K - $80K</td>\n",
              "      <td>Silver</td>\n",
              "      <td>27</td>\n",
              "      <td>2</td>\n",
              "      <td>2</td>\n",
              "      <td>2</td>\n",
              "      <td>29081.0</td>\n",
              "      <td>1396</td>\n",
              "      <td>27685.0</td>\n",
              "      <td>2.204</td>\n",
              "      <td>1538</td>\n",
              "      <td>36</td>\n",
              "      <td>0.714</td>\n",
              "      <td>0.048</td>\n",
              "      <td>0.000086</td>\n",
              "      <td>0.99991</td>\n",
              "    </tr>\n",
              "    <tr>\n",
              "      <th>8</th>\n",
              "      <td>710930508</td>\n",
              "      <td>Existing Customer</td>\n",
              "      <td>37</td>\n",
              "      <td>M</td>\n",
              "      <td>3</td>\n",
              "      <td>Uneducated</td>\n",
              "      <td>Single</td>\n",
              "      <td>$60K - $80K</td>\n",
              "      <td>Blue</td>\n",
              "      <td>36</td>\n",
              "      <td>5</td>\n",
              "      <td>2</td>\n",
              "      <td>0</td>\n",
              "      <td>22352.0</td>\n",
              "      <td>2517</td>\n",
              "      <td>19835.0</td>\n",
              "      <td>3.355</td>\n",
              "      <td>1350</td>\n",
              "      <td>24</td>\n",
              "      <td>1.182</td>\n",
              "      <td>0.113</td>\n",
              "      <td>0.000045</td>\n",
              "      <td>0.99996</td>\n",
              "    </tr>\n",
              "    <tr>\n",
              "      <th>9</th>\n",
              "      <td>719661558</td>\n",
              "      <td>Existing Customer</td>\n",
              "      <td>48</td>\n",
              "      <td>M</td>\n",
              "      <td>2</td>\n",
              "      <td>Graduate</td>\n",
              "      <td>Single</td>\n",
              "      <td>$80K - $120K</td>\n",
              "      <td>Blue</td>\n",
              "      <td>36</td>\n",
              "      <td>6</td>\n",
              "      <td>3</td>\n",
              "      <td>3</td>\n",
              "      <td>11656.0</td>\n",
              "      <td>1677</td>\n",
              "      <td>9979.0</td>\n",
              "      <td>1.524</td>\n",
              "      <td>1441</td>\n",
              "      <td>32</td>\n",
              "      <td>0.882</td>\n",
              "      <td>0.144</td>\n",
              "      <td>0.000303</td>\n",
              "      <td>0.99970</td>\n",
              "    </tr>\n",
              "    <tr>\n",
              "      <th>10</th>\n",
              "      <td>708790833</td>\n",
              "      <td>Existing Customer</td>\n",
              "      <td>42</td>\n",
              "      <td>M</td>\n",
              "      <td>5</td>\n",
              "      <td>Uneducated</td>\n",
              "      <td>Unknown</td>\n",
              "      <td>$120K +</td>\n",
              "      <td>Blue</td>\n",
              "      <td>31</td>\n",
              "      <td>5</td>\n",
              "      <td>3</td>\n",
              "      <td>2</td>\n",
              "      <td>6748.0</td>\n",
              "      <td>1467</td>\n",
              "      <td>5281.0</td>\n",
              "      <td>0.831</td>\n",
              "      <td>1201</td>\n",
              "      <td>42</td>\n",
              "      <td>0.680</td>\n",
              "      <td>0.217</td>\n",
              "      <td>0.000191</td>\n",
              "      <td>0.99981</td>\n",
              "    </tr>\n",
              "    <tr>\n",
              "      <th>11</th>\n",
              "      <td>710821833</td>\n",
              "      <td>Existing Customer</td>\n",
              "      <td>65</td>\n",
              "      <td>M</td>\n",
              "      <td>1</td>\n",
              "      <td>Unknown</td>\n",
              "      <td>Married</td>\n",
              "      <td>$40K - $60K</td>\n",
              "      <td>Blue</td>\n",
              "      <td>54</td>\n",
              "      <td>6</td>\n",
              "      <td>2</td>\n",
              "      <td>3</td>\n",
              "      <td>9095.0</td>\n",
              "      <td>1587</td>\n",
              "      <td>7508.0</td>\n",
              "      <td>1.433</td>\n",
              "      <td>1314</td>\n",
              "      <td>26</td>\n",
              "      <td>1.364</td>\n",
              "      <td>0.174</td>\n",
              "      <td>0.000198</td>\n",
              "      <td>0.99980</td>\n",
              "    </tr>\n",
              "    <tr>\n",
              "      <th>12</th>\n",
              "      <td>710599683</td>\n",
              "      <td>Existing Customer</td>\n",
              "      <td>56</td>\n",
              "      <td>M</td>\n",
              "      <td>1</td>\n",
              "      <td>College</td>\n",
              "      <td>Single</td>\n",
              "      <td>$80K - $120K</td>\n",
              "      <td>Blue</td>\n",
              "      <td>36</td>\n",
              "      <td>3</td>\n",
              "      <td>6</td>\n",
              "      <td>0</td>\n",
              "      <td>11751.0</td>\n",
              "      <td>0</td>\n",
              "      <td>11751.0</td>\n",
              "      <td>3.397</td>\n",
              "      <td>1539</td>\n",
              "      <td>17</td>\n",
              "      <td>3.250</td>\n",
              "      <td>0.000</td>\n",
              "      <td>0.000048</td>\n",
              "      <td>0.99995</td>\n",
              "    </tr>\n",
              "    <tr>\n",
              "      <th>13</th>\n",
              "      <td>816082233</td>\n",
              "      <td>Existing Customer</td>\n",
              "      <td>35</td>\n",
              "      <td>M</td>\n",
              "      <td>3</td>\n",
              "      <td>Graduate</td>\n",
              "      <td>Unknown</td>\n",
              "      <td>$60K - $80K</td>\n",
              "      <td>Blue</td>\n",
              "      <td>30</td>\n",
              "      <td>5</td>\n",
              "      <td>1</td>\n",
              "      <td>3</td>\n",
              "      <td>8547.0</td>\n",
              "      <td>1666</td>\n",
              "      <td>6881.0</td>\n",
              "      <td>1.163</td>\n",
              "      <td>1311</td>\n",
              "      <td>33</td>\n",
              "      <td>2.000</td>\n",
              "      <td>0.195</td>\n",
              "      <td>0.000096</td>\n",
              "      <td>0.99990</td>\n",
              "    </tr>\n",
              "    <tr>\n",
              "      <th>14</th>\n",
              "      <td>712396908</td>\n",
              "      <td>Existing Customer</td>\n",
              "      <td>57</td>\n",
              "      <td>F</td>\n",
              "      <td>2</td>\n",
              "      <td>Graduate</td>\n",
              "      <td>Married</td>\n",
              "      <td>Less than $40K</td>\n",
              "      <td>Blue</td>\n",
              "      <td>48</td>\n",
              "      <td>5</td>\n",
              "      <td>2</td>\n",
              "      <td>2</td>\n",
              "      <td>2436.0</td>\n",
              "      <td>680</td>\n",
              "      <td>1756.0</td>\n",
              "      <td>1.190</td>\n",
              "      <td>1570</td>\n",
              "      <td>29</td>\n",
              "      <td>0.611</td>\n",
              "      <td>0.279</td>\n",
              "      <td>0.000114</td>\n",
              "      <td>0.99989</td>\n",
              "    </tr>\n",
              "    <tr>\n",
              "      <th>15</th>\n",
              "      <td>714885258</td>\n",
              "      <td>Existing Customer</td>\n",
              "      <td>44</td>\n",
              "      <td>M</td>\n",
              "      <td>4</td>\n",
              "      <td>Unknown</td>\n",
              "      <td>Unknown</td>\n",
              "      <td>$80K - $120K</td>\n",
              "      <td>Blue</td>\n",
              "      <td>37</td>\n",
              "      <td>5</td>\n",
              "      <td>1</td>\n",
              "      <td>2</td>\n",
              "      <td>4234.0</td>\n",
              "      <td>972</td>\n",
              "      <td>3262.0</td>\n",
              "      <td>1.707</td>\n",
              "      <td>1348</td>\n",
              "      <td>27</td>\n",
              "      <td>1.700</td>\n",
              "      <td>0.230</td>\n",
              "      <td>0.000063</td>\n",
              "      <td>0.99994</td>\n",
              "    </tr>\n",
              "    <tr>\n",
              "      <th>16</th>\n",
              "      <td>709967358</td>\n",
              "      <td>Existing Customer</td>\n",
              "      <td>48</td>\n",
              "      <td>M</td>\n",
              "      <td>4</td>\n",
              "      <td>Post-Graduate</td>\n",
              "      <td>Single</td>\n",
              "      <td>$80K - $120K</td>\n",
              "      <td>Blue</td>\n",
              "      <td>36</td>\n",
              "      <td>6</td>\n",
              "      <td>2</td>\n",
              "      <td>3</td>\n",
              "      <td>30367.0</td>\n",
              "      <td>2362</td>\n",
              "      <td>28005.0</td>\n",
              "      <td>1.708</td>\n",
              "      <td>1671</td>\n",
              "      <td>27</td>\n",
              "      <td>0.929</td>\n",
              "      <td>0.078</td>\n",
              "      <td>0.000236</td>\n",
              "      <td>0.99976</td>\n",
              "    </tr>\n",
              "    <tr>\n",
              "      <th>17</th>\n",
              "      <td>753327333</td>\n",
              "      <td>Existing Customer</td>\n",
              "      <td>41</td>\n",
              "      <td>M</td>\n",
              "      <td>3</td>\n",
              "      <td>Unknown</td>\n",
              "      <td>Married</td>\n",
              "      <td>$80K - $120K</td>\n",
              "      <td>Blue</td>\n",
              "      <td>34</td>\n",
              "      <td>4</td>\n",
              "      <td>4</td>\n",
              "      <td>1</td>\n",
              "      <td>13535.0</td>\n",
              "      <td>1291</td>\n",
              "      <td>12244.0</td>\n",
              "      <td>0.653</td>\n",
              "      <td>1028</td>\n",
              "      <td>21</td>\n",
              "      <td>1.625</td>\n",
              "      <td>0.095</td>\n",
              "      <td>0.000150</td>\n",
              "      <td>0.99985</td>\n",
              "    </tr>\n",
              "    <tr>\n",
              "      <th>18</th>\n",
              "      <td>806160108</td>\n",
              "      <td>Existing Customer</td>\n",
              "      <td>61</td>\n",
              "      <td>M</td>\n",
              "      <td>1</td>\n",
              "      <td>High School</td>\n",
              "      <td>Married</td>\n",
              "      <td>$40K - $60K</td>\n",
              "      <td>Blue</td>\n",
              "      <td>56</td>\n",
              "      <td>2</td>\n",
              "      <td>2</td>\n",
              "      <td>3</td>\n",
              "      <td>3193.0</td>\n",
              "      <td>2517</td>\n",
              "      <td>676.0</td>\n",
              "      <td>1.831</td>\n",
              "      <td>1336</td>\n",
              "      <td>30</td>\n",
              "      <td>1.143</td>\n",
              "      <td>0.788</td>\n",
              "      <td>0.000175</td>\n",
              "      <td>0.99983</td>\n",
              "    </tr>\n",
              "    <tr>\n",
              "      <th>19</th>\n",
              "      <td>709327383</td>\n",
              "      <td>Existing Customer</td>\n",
              "      <td>45</td>\n",
              "      <td>F</td>\n",
              "      <td>2</td>\n",
              "      <td>Graduate</td>\n",
              "      <td>Married</td>\n",
              "      <td>Unknown</td>\n",
              "      <td>Blue</td>\n",
              "      <td>37</td>\n",
              "      <td>6</td>\n",
              "      <td>1</td>\n",
              "      <td>2</td>\n",
              "      <td>14470.0</td>\n",
              "      <td>1157</td>\n",
              "      <td>13313.0</td>\n",
              "      <td>0.966</td>\n",
              "      <td>1207</td>\n",
              "      <td>21</td>\n",
              "      <td>0.909</td>\n",
              "      <td>0.080</td>\n",
              "      <td>0.000055</td>\n",
              "      <td>0.99994</td>\n",
              "    </tr>\n",
              "  </tbody>\n",
              "</table>\n",
              "</div>"
            ],
            "text/plain": [
              "    CLIENTNUM  ... Naive_Bayes_Classifier_Attrition_Flag_Card_Category_Contacts_Count_12_mon_Dependent_count_Education_Level_Months_Inactive_12_mon_2\n",
              "0   768805383  ...                                            0.99991                                                                                \n",
              "1   818770008  ...                                            0.99994                                                                                \n",
              "2   713982108  ...                                            0.99998                                                                                \n",
              "3   769911858  ...                                            0.99987                                                                                \n",
              "4   709106358  ...                                            0.99998                                                                                \n",
              "5   713061558  ...                                            0.99994                                                                                \n",
              "6   810347208  ...                                            0.99988                                                                                \n",
              "7   818906208  ...                                            0.99991                                                                                \n",
              "8   710930508  ...                                            0.99996                                                                                \n",
              "9   719661558  ...                                            0.99970                                                                                \n",
              "10  708790833  ...                                            0.99981                                                                                \n",
              "11  710821833  ...                                            0.99980                                                                                \n",
              "12  710599683  ...                                            0.99995                                                                                \n",
              "13  816082233  ...                                            0.99990                                                                                \n",
              "14  712396908  ...                                            0.99989                                                                                \n",
              "15  714885258  ...                                            0.99994                                                                                \n",
              "16  709967358  ...                                            0.99976                                                                                \n",
              "17  753327333  ...                                            0.99985                                                                                \n",
              "18  806160108  ...                                            0.99983                                                                                \n",
              "19  709327383  ...                                            0.99994                                                                                \n",
              "\n",
              "[20 rows x 23 columns]"
            ]
          },
          "metadata": {
            "tags": []
          },
          "execution_count": 6
        }
      ]
    },
    {
      "cell_type": "markdown",
      "metadata": {
        "id": "ga9kXozYIV_0"
      },
      "source": [
        "We'll have a look over information regarding the dataset"
      ]
    },
    {
      "cell_type": "code",
      "metadata": {
        "colab": {
          "base_uri": "https://localhost:8080/"
        },
        "id": "6EUW8TbwH325",
        "outputId": "15d40a8a-8803-447e-bc54-7a1ee7e4dce8"
      },
      "source": [
        "df.info()"
      ],
      "execution_count": null,
      "outputs": [
        {
          "output_type": "stream",
          "text": [
            "<class 'pandas.core.frame.DataFrame'>\n",
            "RangeIndex: 10127 entries, 0 to 10126\n",
            "Data columns (total 23 columns):\n",
            " #   Column                                                                                                                              Non-Null Count  Dtype  \n",
            "---  ------                                                                                                                              --------------  -----  \n",
            " 0   CLIENTNUM                                                                                                                           10127 non-null  int64  \n",
            " 1   Attrition_Flag                                                                                                                      10127 non-null  object \n",
            " 2   Customer_Age                                                                                                                        10127 non-null  int64  \n",
            " 3   Gender                                                                                                                              10127 non-null  object \n",
            " 4   Dependent_count                                                                                                                     10127 non-null  int64  \n",
            " 5   Education_Level                                                                                                                     10127 non-null  object \n",
            " 6   Marital_Status                                                                                                                      10127 non-null  object \n",
            " 7   Income_Category                                                                                                                     10127 non-null  object \n",
            " 8   Card_Category                                                                                                                       10127 non-null  object \n",
            " 9   Months_on_book                                                                                                                      10127 non-null  int64  \n",
            " 10  Total_Relationship_Count                                                                                                            10127 non-null  int64  \n",
            " 11  Months_Inactive_12_mon                                                                                                              10127 non-null  int64  \n",
            " 12  Contacts_Count_12_mon                                                                                                               10127 non-null  int64  \n",
            " 13  Credit_Limit                                                                                                                        10127 non-null  float64\n",
            " 14  Total_Revolving_Bal                                                                                                                 10127 non-null  int64  \n",
            " 15  Avg_Open_To_Buy                                                                                                                     10127 non-null  float64\n",
            " 16  Total_Amt_Chng_Q4_Q1                                                                                                                10127 non-null  float64\n",
            " 17  Total_Trans_Amt                                                                                                                     10127 non-null  int64  \n",
            " 18  Total_Trans_Ct                                                                                                                      10127 non-null  int64  \n",
            " 19  Total_Ct_Chng_Q4_Q1                                                                                                                 10127 non-null  float64\n",
            " 20  Avg_Utilization_Ratio                                                                                                               10127 non-null  float64\n",
            " 21  Naive_Bayes_Classifier_Attrition_Flag_Card_Category_Contacts_Count_12_mon_Dependent_count_Education_Level_Months_Inactive_12_mon_1  10127 non-null  float64\n",
            " 22  Naive_Bayes_Classifier_Attrition_Flag_Card_Category_Contacts_Count_12_mon_Dependent_count_Education_Level_Months_Inactive_12_mon_2  10127 non-null  float64\n",
            "dtypes: float64(7), int64(10), object(6)\n",
            "memory usage: 1.8+ MB\n"
          ],
          "name": "stdout"
        }
      ]
    },
    {
      "cell_type": "markdown",
      "metadata": {
        "id": "_uS0PwTJBBWN"
      },
      "source": [
        "From the results above, we can see that:\n",
        "\n",
        "*   There are 10127 samples\n",
        "*   A total of 23 features are available\n",
        "*   There are both **categorical** & **numerical** variables in the dataset\n",
        "*   The dataset has no null value in any of the features\n",
        "\n",
        "\n",
        "\n",
        "-> During dataset preprocessing, we can skip over null value cleanup "
      ]
    },
    {
      "cell_type": "markdown",
      "metadata": {
        "id": "zDkNw3Wb9YNj"
      },
      "source": [
        "We'll also have a look over some statistics of each individual features"
      ]
    },
    {
      "cell_type": "code",
      "metadata": {
        "colab": {
          "base_uri": "https://localhost:8080/",
          "height": 314
        },
        "id": "akXYLlZlGcXQ",
        "outputId": "2f124aaf-3561-4e19-cf04-8cd0c2280753"
      },
      "source": [
        "df.describe()"
      ],
      "execution_count": null,
      "outputs": [
        {
          "output_type": "execute_result",
          "data": {
            "text/html": [
              "<div>\n",
              "<style scoped>\n",
              "    .dataframe tbody tr th:only-of-type {\n",
              "        vertical-align: middle;\n",
              "    }\n",
              "\n",
              "    .dataframe tbody tr th {\n",
              "        vertical-align: top;\n",
              "    }\n",
              "\n",
              "    .dataframe thead th {\n",
              "        text-align: right;\n",
              "    }\n",
              "</style>\n",
              "<table border=\"1\" class=\"dataframe\">\n",
              "  <thead>\n",
              "    <tr style=\"text-align: right;\">\n",
              "      <th></th>\n",
              "      <th>CLIENTNUM</th>\n",
              "      <th>Customer_Age</th>\n",
              "      <th>Dependent_count</th>\n",
              "      <th>Months_on_book</th>\n",
              "      <th>Total_Relationship_Count</th>\n",
              "      <th>Months_Inactive_12_mon</th>\n",
              "      <th>Contacts_Count_12_mon</th>\n",
              "      <th>Credit_Limit</th>\n",
              "      <th>Total_Revolving_Bal</th>\n",
              "      <th>Avg_Open_To_Buy</th>\n",
              "      <th>Total_Amt_Chng_Q4_Q1</th>\n",
              "      <th>Total_Trans_Amt</th>\n",
              "      <th>Total_Trans_Ct</th>\n",
              "      <th>Total_Ct_Chng_Q4_Q1</th>\n",
              "      <th>Avg_Utilization_Ratio</th>\n",
              "      <th>Naive_Bayes_Classifier_Attrition_Flag_Card_Category_Contacts_Count_12_mon_Dependent_count_Education_Level_Months_Inactive_12_mon_1</th>\n",
              "      <th>Naive_Bayes_Classifier_Attrition_Flag_Card_Category_Contacts_Count_12_mon_Dependent_count_Education_Level_Months_Inactive_12_mon_2</th>\n",
              "    </tr>\n",
              "  </thead>\n",
              "  <tbody>\n",
              "    <tr>\n",
              "      <th>count</th>\n",
              "      <td>1.012700e+04</td>\n",
              "      <td>10127.000000</td>\n",
              "      <td>10127.000000</td>\n",
              "      <td>10127.000000</td>\n",
              "      <td>10127.000000</td>\n",
              "      <td>10127.000000</td>\n",
              "      <td>10127.000000</td>\n",
              "      <td>10127.000000</td>\n",
              "      <td>10127.000000</td>\n",
              "      <td>10127.000000</td>\n",
              "      <td>10127.000000</td>\n",
              "      <td>10127.000000</td>\n",
              "      <td>10127.000000</td>\n",
              "      <td>10127.000000</td>\n",
              "      <td>10127.000000</td>\n",
              "      <td>10127.000000</td>\n",
              "      <td>10127.000000</td>\n",
              "    </tr>\n",
              "    <tr>\n",
              "      <th>mean</th>\n",
              "      <td>7.391776e+08</td>\n",
              "      <td>46.325960</td>\n",
              "      <td>2.346203</td>\n",
              "      <td>35.928409</td>\n",
              "      <td>3.812580</td>\n",
              "      <td>2.341167</td>\n",
              "      <td>2.455317</td>\n",
              "      <td>8631.953698</td>\n",
              "      <td>1162.814061</td>\n",
              "      <td>7469.139637</td>\n",
              "      <td>0.759941</td>\n",
              "      <td>4404.086304</td>\n",
              "      <td>64.858695</td>\n",
              "      <td>0.712222</td>\n",
              "      <td>0.274894</td>\n",
              "      <td>0.159997</td>\n",
              "      <td>0.840003</td>\n",
              "    </tr>\n",
              "    <tr>\n",
              "      <th>std</th>\n",
              "      <td>3.690378e+07</td>\n",
              "      <td>8.016814</td>\n",
              "      <td>1.298908</td>\n",
              "      <td>7.986416</td>\n",
              "      <td>1.554408</td>\n",
              "      <td>1.010622</td>\n",
              "      <td>1.106225</td>\n",
              "      <td>9088.776650</td>\n",
              "      <td>814.987335</td>\n",
              "      <td>9090.685324</td>\n",
              "      <td>0.219207</td>\n",
              "      <td>3397.129254</td>\n",
              "      <td>23.472570</td>\n",
              "      <td>0.238086</td>\n",
              "      <td>0.275691</td>\n",
              "      <td>0.365301</td>\n",
              "      <td>0.365301</td>\n",
              "    </tr>\n",
              "    <tr>\n",
              "      <th>min</th>\n",
              "      <td>7.080821e+08</td>\n",
              "      <td>26.000000</td>\n",
              "      <td>0.000000</td>\n",
              "      <td>13.000000</td>\n",
              "      <td>1.000000</td>\n",
              "      <td>0.000000</td>\n",
              "      <td>0.000000</td>\n",
              "      <td>1438.300000</td>\n",
              "      <td>0.000000</td>\n",
              "      <td>3.000000</td>\n",
              "      <td>0.000000</td>\n",
              "      <td>510.000000</td>\n",
              "      <td>10.000000</td>\n",
              "      <td>0.000000</td>\n",
              "      <td>0.000000</td>\n",
              "      <td>0.000008</td>\n",
              "      <td>0.000420</td>\n",
              "    </tr>\n",
              "    <tr>\n",
              "      <th>25%</th>\n",
              "      <td>7.130368e+08</td>\n",
              "      <td>41.000000</td>\n",
              "      <td>1.000000</td>\n",
              "      <td>31.000000</td>\n",
              "      <td>3.000000</td>\n",
              "      <td>2.000000</td>\n",
              "      <td>2.000000</td>\n",
              "      <td>2555.000000</td>\n",
              "      <td>359.000000</td>\n",
              "      <td>1324.500000</td>\n",
              "      <td>0.631000</td>\n",
              "      <td>2155.500000</td>\n",
              "      <td>45.000000</td>\n",
              "      <td>0.582000</td>\n",
              "      <td>0.023000</td>\n",
              "      <td>0.000099</td>\n",
              "      <td>0.999660</td>\n",
              "    </tr>\n",
              "    <tr>\n",
              "      <th>50%</th>\n",
              "      <td>7.179264e+08</td>\n",
              "      <td>46.000000</td>\n",
              "      <td>2.000000</td>\n",
              "      <td>36.000000</td>\n",
              "      <td>4.000000</td>\n",
              "      <td>2.000000</td>\n",
              "      <td>2.000000</td>\n",
              "      <td>4549.000000</td>\n",
              "      <td>1276.000000</td>\n",
              "      <td>3474.000000</td>\n",
              "      <td>0.736000</td>\n",
              "      <td>3899.000000</td>\n",
              "      <td>67.000000</td>\n",
              "      <td>0.702000</td>\n",
              "      <td>0.176000</td>\n",
              "      <td>0.000181</td>\n",
              "      <td>0.999820</td>\n",
              "    </tr>\n",
              "    <tr>\n",
              "      <th>75%</th>\n",
              "      <td>7.731435e+08</td>\n",
              "      <td>52.000000</td>\n",
              "      <td>3.000000</td>\n",
              "      <td>40.000000</td>\n",
              "      <td>5.000000</td>\n",
              "      <td>3.000000</td>\n",
              "      <td>3.000000</td>\n",
              "      <td>11067.500000</td>\n",
              "      <td>1784.000000</td>\n",
              "      <td>9859.000000</td>\n",
              "      <td>0.859000</td>\n",
              "      <td>4741.000000</td>\n",
              "      <td>81.000000</td>\n",
              "      <td>0.818000</td>\n",
              "      <td>0.503000</td>\n",
              "      <td>0.000337</td>\n",
              "      <td>0.999900</td>\n",
              "    </tr>\n",
              "    <tr>\n",
              "      <th>max</th>\n",
              "      <td>8.283431e+08</td>\n",
              "      <td>73.000000</td>\n",
              "      <td>5.000000</td>\n",
              "      <td>56.000000</td>\n",
              "      <td>6.000000</td>\n",
              "      <td>6.000000</td>\n",
              "      <td>6.000000</td>\n",
              "      <td>34516.000000</td>\n",
              "      <td>2517.000000</td>\n",
              "      <td>34516.000000</td>\n",
              "      <td>3.397000</td>\n",
              "      <td>18484.000000</td>\n",
              "      <td>139.000000</td>\n",
              "      <td>3.714000</td>\n",
              "      <td>0.999000</td>\n",
              "      <td>0.999580</td>\n",
              "      <td>0.999990</td>\n",
              "    </tr>\n",
              "  </tbody>\n",
              "</table>\n",
              "</div>"
            ],
            "text/plain": [
              "          CLIENTNUM  ...  Naive_Bayes_Classifier_Attrition_Flag_Card_Category_Contacts_Count_12_mon_Dependent_count_Education_Level_Months_Inactive_12_mon_2\n",
              "count  1.012700e+04  ...                                       10127.000000                                                                                 \n",
              "mean   7.391776e+08  ...                                           0.840003                                                                                 \n",
              "std    3.690378e+07  ...                                           0.365301                                                                                 \n",
              "min    7.080821e+08  ...                                           0.000420                                                                                 \n",
              "25%    7.130368e+08  ...                                           0.999660                                                                                 \n",
              "50%    7.179264e+08  ...                                           0.999820                                                                                 \n",
              "75%    7.731435e+08  ...                                           0.999900                                                                                 \n",
              "max    8.283431e+08  ...                                           0.999990                                                                                 \n",
              "\n",
              "[8 rows x 17 columns]"
            ]
          },
          "metadata": {
            "tags": []
          },
          "execution_count": 8
        }
      ]
    },
    {
      "cell_type": "markdown",
      "metadata": {
        "id": "towcaBZC90t3"
      },
      "source": [
        "We will proceed to prune features mentioned in the notes of the dataset's author:\n",
        "\n",
        "1. *Naive_Bayes_Classifier_Attrition_Flag_Card_Category_Contacts_Count_12_mon_Dependent_count_Education_Level_Months_Inactive_12_mon_1*\n",
        "2. *Naive_Bayes_Classifier_Attrition_Flag_Card_Category_Contacts_Count_12_mon_Dependent_count_Education_Level_Months_Inactive_12_mon_2*\n",
        "3. *CLIENTNUM*\n",
        "\n",
        "-> We'll be left with 20 features."
      ]
    },
    {
      "cell_type": "code",
      "metadata": {
        "id": "67amQonI3A2j"
      },
      "source": [
        "df = df.drop(columns = ['Naive_Bayes_Classifier_Attrition_Flag_Card_Category_Contacts_Count_12_mon_Dependent_count_Education_Level_Months_Inactive_12_mon_1','Naive_Bayes_Classifier_Attrition_Flag_Card_Category_Contacts_Count_12_mon_Dependent_count_Education_Level_Months_Inactive_12_mon_2','CLIENTNUM'], axis = 1)"
      ],
      "execution_count": null,
      "outputs": []
    },
    {
      "cell_type": "code",
      "metadata": {
        "colab": {
          "base_uri": "https://localhost:8080/"
        },
        "id": "1gHq7-hYb2fU",
        "outputId": "eee4a434-d3e5-4e52-b784-def9e7b63b8b"
      },
      "source": [
        "df.dtypes"
      ],
      "execution_count": null,
      "outputs": [
        {
          "output_type": "execute_result",
          "data": {
            "text/plain": [
              "Attrition_Flag               object\n",
              "Customer_Age                  int64\n",
              "Gender                       object\n",
              "Dependent_count               int64\n",
              "Education_Level              object\n",
              "Marital_Status               object\n",
              "Income_Category              object\n",
              "Card_Category                object\n",
              "Months_on_book                int64\n",
              "Total_Relationship_Count      int64\n",
              "Months_Inactive_12_mon        int64\n",
              "Contacts_Count_12_mon         int64\n",
              "Credit_Limit                float64\n",
              "Total_Revolving_Bal           int64\n",
              "Avg_Open_To_Buy             float64\n",
              "Total_Amt_Chng_Q4_Q1        float64\n",
              "Total_Trans_Amt               int64\n",
              "Total_Trans_Ct                int64\n",
              "Total_Ct_Chng_Q4_Q1         float64\n",
              "Avg_Utilization_Ratio       float64\n",
              "dtype: object"
            ]
          },
          "metadata": {
            "tags": []
          },
          "execution_count": 10
        }
      ]
    },
    {
      "cell_type": "markdown",
      "metadata": {
        "id": "jCqWHvMU-c_z"
      },
      "source": [
        "We will proceed to create two separate lists for categorial attributes and numerical."
      ]
    },
    {
      "cell_type": "code",
      "metadata": {
        "id": "lHAGXtLHJ790"
      },
      "source": [
        "cat_vars = list(df.select_dtypes(include='object').columns)\n",
        "num_vars = list(df.select_dtypes(exclude='object').columns)"
      ],
      "execution_count": null,
      "outputs": []
    },
    {
      "cell_type": "markdown",
      "metadata": {
        "id": "WfYxDUl1FSNN"
      },
      "source": [
        ""
      ]
    },
    {
      "cell_type": "markdown",
      "metadata": {
        "id": "mBOifm4y_EvQ"
      },
      "source": [
        "We will check the numerical features for any issues, graphically"
      ]
    },
    {
      "cell_type": "code",
      "metadata": {
        "colab": {
          "base_uri": "https://localhost:8080/",
          "height": 652
        },
        "id": "m6PAACefgSPK",
        "outputId": "10ec765d-10ae-437a-f2d7-841203bf4afd"
      },
      "source": [
        "df[num_vars].hist(bins=10, figsize = (20,15))\n",
        "plt.show()"
      ],
      "execution_count": null,
      "outputs": [
        {
          "output_type": "display_data",
          "data": {
            "image/png": "[encoded data removed]",
            "text/plain": [
              "<Figure size 1440x1080 with 16 Axes>"
            ]
          },
          "metadata": {
            "tags": [],
            "needs_background": "light"
          }
        }
      ]
    },
    {
      "cell_type": "markdown",
      "metadata": {
        "id": "l4TNKNOgjtmu"
      },
      "source": [
        "The histograms illustrate that Customer_Age variable follow normal distribution, while some attributes are highly skewed, for example \n",
        "* *Credit_Limit*\n",
        "* *Avg_Open_To_Buy*\n",
        "* *Total_Amt_Chng_Q4_Q1*\n",
        "* *Total_Ct_Chng_Q4_Q1*"
      ]
    },
    {
      "cell_type": "code",
      "metadata": {
        "colab": {
          "base_uri": "https://localhost:8080/",
          "height": 171
        },
        "id": "MtWPjYPqkxKX",
        "outputId": "675e5237-79e6-4988-9cf8-2d1ad1d036f6"
      },
      "source": [
        "df[cat_vars].describe()"
      ],
      "execution_count": null,
      "outputs": [
        {
          "output_type": "execute_result",
          "data": {
            "text/html": [
              "<div>\n",
              "<style scoped>\n",
              "    .dataframe tbody tr th:only-of-type {\n",
              "        vertical-align: middle;\n",
              "    }\n",
              "\n",
              "    .dataframe tbody tr th {\n",
              "        vertical-align: top;\n",
              "    }\n",
              "\n",
              "    .dataframe thead th {\n",
              "        text-align: right;\n",
              "    }\n",
              "</style>\n",
              "<table border=\"1\" class=\"dataframe\">\n",
              "  <thead>\n",
              "    <tr style=\"text-align: right;\">\n",
              "      <th></th>\n",
              "      <th>Attrition_Flag</th>\n",
              "      <th>Gender</th>\n",
              "      <th>Education_Level</th>\n",
              "      <th>Marital_Status</th>\n",
              "      <th>Income_Category</th>\n",
              "      <th>Card_Category</th>\n",
              "    </tr>\n",
              "  </thead>\n",
              "  <tbody>\n",
              "    <tr>\n",
              "      <th>count</th>\n",
              "      <td>10127</td>\n",
              "      <td>10127</td>\n",
              "      <td>10127</td>\n",
              "      <td>10127</td>\n",
              "      <td>10127</td>\n",
              "      <td>10127</td>\n",
              "    </tr>\n",
              "    <tr>\n",
              "      <th>unique</th>\n",
              "      <td>2</td>\n",
              "      <td>2</td>\n",
              "      <td>7</td>\n",
              "      <td>4</td>\n",
              "      <td>6</td>\n",
              "      <td>4</td>\n",
              "    </tr>\n",
              "    <tr>\n",
              "      <th>top</th>\n",
              "      <td>Existing Customer</td>\n",
              "      <td>F</td>\n",
              "      <td>Graduate</td>\n",
              "      <td>Married</td>\n",
              "      <td>Less than $40K</td>\n",
              "      <td>Blue</td>\n",
              "    </tr>\n",
              "    <tr>\n",
              "      <th>freq</th>\n",
              "      <td>8500</td>\n",
              "      <td>5358</td>\n",
              "      <td>3128</td>\n",
              "      <td>4687</td>\n",
              "      <td>3561</td>\n",
              "      <td>9436</td>\n",
              "    </tr>\n",
              "  </tbody>\n",
              "</table>\n",
              "</div>"
            ],
            "text/plain": [
              "           Attrition_Flag Gender  ... Income_Category Card_Category\n",
              "count               10127  10127  ...           10127         10127\n",
              "unique                  2      2  ...               6             4\n",
              "top     Existing Customer      F  ...  Less than $40K          Blue\n",
              "freq                 8500   5358  ...            3561          9436\n",
              "\n",
              "[4 rows x 6 columns]"
            ]
          },
          "metadata": {
            "tags": []
          },
          "execution_count": 13
        }
      ]
    },
    {
      "cell_type": "markdown",
      "metadata": {
        "id": "iPkI7Zigk4Qk"
      },
      "source": [
        "From the summary table, we can see the most frequent values of each variable and its frequency in the dataset."
      ]
    },
    {
      "cell_type": "markdown",
      "metadata": {
        "id": "UgPHOhcuCAKR"
      },
      "source": [
        "\n",
        "The 'Attrition_Flag' column contains the categorical value representing whether a customer has churned or not. Therefore, we will pick it as our **target variable**"
      ]
    },
    {
      "cell_type": "markdown",
      "metadata": {
        "id": "jxC8dh2h_7Ac"
      },
      "source": [
        "We will have a look at the ratio between Churned (Attrited) and Existing customers in the target variable column"
      ]
    },
    {
      "cell_type": "code",
      "metadata": {
        "colab": {
          "base_uri": "https://localhost:8080/"
        },
        "id": "I7lGgqTcBWa2",
        "outputId": "2834ce16-ab27-419c-ef72-b889225c6d85"
      },
      "source": [
        "churn_count = df[\"Attrition_Flag\"].value_counts()\n",
        "print(churn_count)"
      ],
      "execution_count": null,
      "outputs": [
        {
          "output_type": "stream",
          "text": [
            "Existing Customer    8500\n",
            "Attrited Customer    1627\n",
            "Name: Attrition_Flag, dtype: int64\n"
          ],
          "name": "stdout"
        }
      ]
    },
    {
      "cell_type": "code",
      "metadata": {
        "colab": {
          "base_uri": "https://localhost:8080/",
          "height": 281
        },
        "id": "OZyONS1NHPt4",
        "outputId": "6e84b5de-2eb9-46ba-dfb2-280e90406b40"
      },
      "source": [
        "plt.pie(churn_count,autopct = '%1.2f%%', labels=df.Attrition_Flag.unique())\n",
        "plt.title('Churning percentage')\n",
        "plt.show"
      ],
      "execution_count": null,
      "outputs": [
        {
          "output_type": "execute_result",
          "data": {
            "text/plain": [
              "<function matplotlib.pyplot.show>"
            ]
          },
          "metadata": {
            "tags": []
          },
          "execution_count": 15
        },
        {
          "output_type": "display_data",
          "data": {
            "image/png": "[encoded data removed]",
            "text/plain": [
              "<Figure size 432x288 with 1 Axes>"
            ]
          },
          "metadata": {
            "tags": []
          }
        }
      ]
    },
    {
      "cell_type": "markdown",
      "metadata": {
        "id": "p9yuhlZAAEws"
      },
      "source": [
        "Here, we can observe that: although is the smaller on, at 16.07%, it is still quite a large amount of customers churned from our bank. Therefore, to be able to predict whether a customer will churn or not in order to develop strategies to keep them from churning is key for increasing profit."
      ]
    },
    {
      "cell_type": "markdown",
      "metadata": {
        "id": "V1QoQUw0nBwj"
      },
      "source": [
        "Let's have a look at some statistics of numerical variables"
      ]
    },
    {
      "cell_type": "code",
      "metadata": {
        "colab": {
          "base_uri": "https://localhost:8080/",
          "height": 314
        },
        "id": "G6WkhrK1l2V2",
        "outputId": "7dd4ceed-46f4-4584-90cd-d41666f239cd"
      },
      "source": [
        "df[num_vars].describe()"
      ],
      "execution_count": null,
      "outputs": [
        {
          "output_type": "execute_result",
          "data": {
            "text/html": [
              "<div>\n",
              "<style scoped>\n",
              "    .dataframe tbody tr th:only-of-type {\n",
              "        vertical-align: middle;\n",
              "    }\n",
              "\n",
              "    .dataframe tbody tr th {\n",
              "        vertical-align: top;\n",
              "    }\n",
              "\n",
              "    .dataframe thead th {\n",
              "        text-align: right;\n",
              "    }\n",
              "</style>\n",
              "<table border=\"1\" class=\"dataframe\">\n",
              "  <thead>\n",
              "    <tr style=\"text-align: right;\">\n",
              "      <th></th>\n",
              "      <th>Customer_Age</th>\n",
              "      <th>Dependent_count</th>\n",
              "      <th>Months_on_book</th>\n",
              "      <th>Total_Relationship_Count</th>\n",
              "      <th>Months_Inactive_12_mon</th>\n",
              "      <th>Contacts_Count_12_mon</th>\n",
              "      <th>Credit_Limit</th>\n",
              "      <th>Total_Revolving_Bal</th>\n",
              "      <th>Avg_Open_To_Buy</th>\n",
              "      <th>Total_Amt_Chng_Q4_Q1</th>\n",
              "      <th>Total_Trans_Amt</th>\n",
              "      <th>Total_Trans_Ct</th>\n",
              "      <th>Total_Ct_Chng_Q4_Q1</th>\n",
              "      <th>Avg_Utilization_Ratio</th>\n",
              "    </tr>\n",
              "  </thead>\n",
              "  <tbody>\n",
              "    <tr>\n",
              "      <th>count</th>\n",
              "      <td>10127.000000</td>\n",
              "      <td>10127.000000</td>\n",
              "      <td>10127.000000</td>\n",
              "      <td>10127.000000</td>\n",
              "      <td>10127.000000</td>\n",
              "      <td>10127.000000</td>\n",
              "      <td>10127.000000</td>\n",
              "      <td>10127.000000</td>\n",
              "      <td>10127.000000</td>\n",
              "      <td>10127.000000</td>\n",
              "      <td>10127.000000</td>\n",
              "      <td>10127.000000</td>\n",
              "      <td>10127.000000</td>\n",
              "      <td>10127.000000</td>\n",
              "    </tr>\n",
              "    <tr>\n",
              "      <th>mean</th>\n",
              "      <td>46.325960</td>\n",
              "      <td>2.346203</td>\n",
              "      <td>35.928409</td>\n",
              "      <td>3.812580</td>\n",
              "      <td>2.341167</td>\n",
              "      <td>2.455317</td>\n",
              "      <td>8631.953698</td>\n",
              "      <td>1162.814061</td>\n",
              "      <td>7469.139637</td>\n",
              "      <td>0.759941</td>\n",
              "      <td>4404.086304</td>\n",
              "      <td>64.858695</td>\n",
              "      <td>0.712222</td>\n",
              "      <td>0.274894</td>\n",
              "    </tr>\n",
              "    <tr>\n",
              "      <th>std</th>\n",
              "      <td>8.016814</td>\n",
              "      <td>1.298908</td>\n",
              "      <td>7.986416</td>\n",
              "      <td>1.554408</td>\n",
              "      <td>1.010622</td>\n",
              "      <td>1.106225</td>\n",
              "      <td>9088.776650</td>\n",
              "      <td>814.987335</td>\n",
              "      <td>9090.685324</td>\n",
              "      <td>0.219207</td>\n",
              "      <td>3397.129254</td>\n",
              "      <td>23.472570</td>\n",
              "      <td>0.238086</td>\n",
              "      <td>0.275691</td>\n",
              "    </tr>\n",
              "    <tr>\n",
              "      <th>min</th>\n",
              "      <td>26.000000</td>\n",
              "      <td>0.000000</td>\n",
              "      <td>13.000000</td>\n",
              "      <td>1.000000</td>\n",
              "      <td>0.000000</td>\n",
              "      <td>0.000000</td>\n",
              "      <td>1438.300000</td>\n",
              "      <td>0.000000</td>\n",
              "      <td>3.000000</td>\n",
              "      <td>0.000000</td>\n",
              "      <td>510.000000</td>\n",
              "      <td>10.000000</td>\n",
              "      <td>0.000000</td>\n",
              "      <td>0.000000</td>\n",
              "    </tr>\n",
              "    <tr>\n",
              "      <th>25%</th>\n",
              "      <td>41.000000</td>\n",
              "      <td>1.000000</td>\n",
              "      <td>31.000000</td>\n",
              "      <td>3.000000</td>\n",
              "      <td>2.000000</td>\n",
              "      <td>2.000000</td>\n",
              "      <td>2555.000000</td>\n",
              "      <td>359.000000</td>\n",
              "      <td>1324.500000</td>\n",
              "      <td>0.631000</td>\n",
              "      <td>2155.500000</td>\n",
              "      <td>45.000000</td>\n",
              "      <td>0.582000</td>\n",
              "      <td>0.023000</td>\n",
              "    </tr>\n",
              "    <tr>\n",
              "      <th>50%</th>\n",
              "      <td>46.000000</td>\n",
              "      <td>2.000000</td>\n",
              "      <td>36.000000</td>\n",
              "      <td>4.000000</td>\n",
              "      <td>2.000000</td>\n",
              "      <td>2.000000</td>\n",
              "      <td>4549.000000</td>\n",
              "      <td>1276.000000</td>\n",
              "      <td>3474.000000</td>\n",
              "      <td>0.736000</td>\n",
              "      <td>3899.000000</td>\n",
              "      <td>67.000000</td>\n",
              "      <td>0.702000</td>\n",
              "      <td>0.176000</td>\n",
              "    </tr>\n",
              "    <tr>\n",
              "      <th>75%</th>\n",
              "      <td>52.000000</td>\n",
              "      <td>3.000000</td>\n",
              "      <td>40.000000</td>\n",
              "      <td>5.000000</td>\n",
              "      <td>3.000000</td>\n",
              "      <td>3.000000</td>\n",
              "      <td>11067.500000</td>\n",
              "      <td>1784.000000</td>\n",
              "      <td>9859.000000</td>\n",
              "      <td>0.859000</td>\n",
              "      <td>4741.000000</td>\n",
              "      <td>81.000000</td>\n",
              "      <td>0.818000</td>\n",
              "      <td>0.503000</td>\n",
              "    </tr>\n",
              "    <tr>\n",
              "      <th>max</th>\n",
              "      <td>73.000000</td>\n",
              "      <td>5.000000</td>\n",
              "      <td>56.000000</td>\n",
              "      <td>6.000000</td>\n",
              "      <td>6.000000</td>\n",
              "      <td>6.000000</td>\n",
              "      <td>34516.000000</td>\n",
              "      <td>2517.000000</td>\n",
              "      <td>34516.000000</td>\n",
              "      <td>3.397000</td>\n",
              "      <td>18484.000000</td>\n",
              "      <td>139.000000</td>\n",
              "      <td>3.714000</td>\n",
              "      <td>0.999000</td>\n",
              "    </tr>\n",
              "  </tbody>\n",
              "</table>\n",
              "</div>"
            ],
            "text/plain": [
              "       Customer_Age  ...  Avg_Utilization_Ratio\n",
              "count  10127.000000  ...           10127.000000\n",
              "mean      46.325960  ...               0.274894\n",
              "std        8.016814  ...               0.275691\n",
              "min       26.000000  ...               0.000000\n",
              "25%       41.000000  ...               0.023000\n",
              "50%       46.000000  ...               0.176000\n",
              "75%       52.000000  ...               0.503000\n",
              "max       73.000000  ...               0.999000\n",
              "\n",
              "[8 rows x 14 columns]"
            ]
          },
          "metadata": {
            "tags": []
          },
          "execution_count": 16
        }
      ]
    },
    {
      "cell_type": "code",
      "metadata": {
        "colab": {
          "base_uri": "https://localhost:8080/",
          "height": 573
        },
        "id": "nbLdpOHAmwZN",
        "outputId": "850cc4df-2f03-4b70-9914-8f2f55dc0e2c"
      },
      "source": [
        "df[num_vars].boxplot(figsize=(30,20))\n",
        "plt.show()"
      ],
      "execution_count": null,
      "outputs": [
        {
          "output_type": "display_data",
          "data": {
            "image/png": "[encoded data removed]",
            "text/plain": [
              "<Figure size 2160x1440 with 1 Axes>"
            ]
          },
          "metadata": {
            "tags": [],
            "needs_background": "light"
          }
        }
      ]
    },
    {
      "cell_type": "markdown",
      "metadata": {
        "id": "sRk5Z5v4nMuk"
      },
      "source": [
        "The boxplots reveal a great number of outliers in \n",
        "* *Credit_Limit*\n",
        "* *Avg_Open_To_Buy*\n",
        "* *Total_Trans_Amt*"
      ]
    },
    {
      "cell_type": "code",
      "metadata": {
        "colab": {
          "base_uri": "https://localhost:8080/",
          "height": 588
        },
        "id": "p3LH89uBoKm4",
        "outputId": "b8c44f6f-04c3-492e-c3ef-f0de1890ef24"
      },
      "source": [
        "outlier = ['Credit_Limit','Avg_Open_To_Buy','Total_Trans_Amt']\n",
        "df[outlier].hist(bins=10, figsize=(15,10))\n",
        "plt.show()"
      ],
      "execution_count": null,
      "outputs": [
        {
          "output_type": "display_data",
          "data": {
            "image/png": "[encoded data removed]",
            "text/plain": [
              "<Figure size 1080x720 with 4 Axes>"
            ]
          },
          "metadata": {
            "tags": [],
            "needs_background": "light"
          }
        }
      ]
    },
    {
      "cell_type": "markdown",
      "metadata": {
        "id": "DzTTMVCpot9O"
      },
      "source": [
        "As showed above, the distributions of those suspected variable are skewed and need to be taken care of"
      ]
    },
    {
      "cell_type": "markdown",
      "metadata": {
        "id": "ZpueXJKLpoyA"
      },
      "source": [
        "# **II.Data preparation:**"
      ]
    },
    {
      "cell_type": "markdown",
      "metadata": {
        "id": "HJSV4eHP5SZf"
      },
      "source": [
        "## *1. Feature selection:*\n",
        "\n",
        "In this part, we will deal with highly correlated variable."
      ]
    },
    {
      "cell_type": "markdown",
      "metadata": {
        "id": "Aqp2Hv1s_rNO"
      },
      "source": [
        "We'll utilize a heat map to visualize correlation between features."
      ]
    },
    {
      "cell_type": "code",
      "metadata": {
        "colab": {
          "base_uri": "https://localhost:8080/",
          "height": 711
        },
        "id": "_5kUklD7qq9o",
        "outputId": "d4da19ee-fae6-4899-b761-8fe1e67e3db9"
      },
      "source": [
        "fig, ax = plt.subplots(figsize=(10,10))\n",
        "cm = sns.heatmap(df.corr(), linewidths = .5, cmap=\"YlGnBu\", annot=True, ax=ax, fmt='.1g')"
      ],
      "execution_count": null,
      "outputs": [
        {
          "output_type": "display_data",
          "data": {
            "image/png": "[encoded data removed]",
            "text/plain": [
              "<Figure size 720x720 with 2 Axes>"
            ]
          },
          "metadata": {
            "tags": [],
            "needs_background": "light"
          }
        }
      ]
    },
    {
      "cell_type": "markdown",
      "metadata": {
        "id": "y3T9X5xS_wkT"
      },
      "source": [
        "As there's perfect correlation between Avg_Open_To_Buy and Credit_limit, which mean the two variables present the same information. We'll prune either of them. In this case, *Avg_Open_To_Buy* is a feature, mentioned before, who has a lot of outliers, therefore is prioritized for pruning.\n",
        "\n",
        "⇒ We'll be left with only 2 columns needed to be cleaned off outliers\n",
        "* *Credit_Limit*\n",
        "* *Total_Trans_Amt*"
      ]
    },
    {
      "cell_type": "code",
      "metadata": {
        "id": "nB9mByGr7OuS"
      },
      "source": [
        "df = df.drop(columns='Avg_Open_To_Buy', axis=1)\n",
        "outlier.remove('Avg_Open_To_Buy')"
      ],
      "execution_count": null,
      "outputs": []
    },
    {
      "cell_type": "markdown",
      "metadata": {
        "id": "_JTaFM2SqEaR"
      },
      "source": [
        "## *2. Data Cleansing:*\n",
        "\n",
        "  In the data cleaning task, we will come to remove outliers and deal with missing values."
      ]
    },
    {
      "cell_type": "markdown",
      "metadata": {
        "id": "708vrTtgq4_V"
      },
      "source": [
        "In this case, we will remove the outliers that initially detected in the boxplots. To determine whether a datapoint is outlier or not, we will utilize the **interquartile method**.\n",
        "\n",
        "An interquartile (IQR) will be calculated by the formula: **IQR = Q3 - Q1**\n",
        "\n",
        "We will implement this logic into a 'while' loop, in order to \n",
        "* Automatically calculate IQR\n",
        "* Purge rows whose value of the outlier features exceed the outlier threshold \n",
        "* Repeat until the number of outliers for each of the outlier-rich features are acceptable (in this case, less than 300)"
      ]
    },
    {
      "cell_type": "code",
      "metadata": {
        "id": "8OLdZdSRj5L_"
      },
      "source": [
        ""
      ],
      "execution_count": null,
      "outputs": []
    },
    {
      "cell_type": "code",
      "metadata": {
        "id": "WAvJMXWJDqOg"
      },
      "source": [
        "while True:\n",
        "  IQR = df[outlier].quantile(0.75) - df[outlier].quantile(0.25)\n",
        "  # Calculating the upper bounds of the two outlier-rich features\n",
        "  upb_cl = round(df['Credit_Limit'].quantile(0.75) + 1.5*IQR[0], 3)\n",
        "  upb_tt = round(df['Total_Trans_Amt'].quantile(0.75) + 1.5*IQR[1], 3)\n",
        "  df = df[~((df ['Credit_Limit'] > upb_cl) | (df['Total_Trans_Amt'] > upb_tt))]\n",
        "  outNum_cl = len(df[(df['Credit_Limit']>upb_cl) == True].index)\n",
        "  outNum_tt = len(df[(df['Total_Trans_Amt']>upb_tt) == True].index)\n",
        "  if outNum_cl < 300 and outNum_tt< 300 :\n",
        "    break"
      ],
      "execution_count": null,
      "outputs": []
    },
    {
      "cell_type": "markdown",
      "metadata": {
        "id": "0pu_o3p2wwqB"
      },
      "source": [
        "Let's have a look at the statistics and the box plots of outlier variables again."
      ]
    },
    {
      "cell_type": "code",
      "metadata": {
        "colab": {
          "base_uri": "https://localhost:8080/",
          "height": 321
        },
        "id": "WiHtGi1uwto0",
        "outputId": "a7f42c97-15d2-4a95-a6d6-767ebd5eb356"
      },
      "source": [
        "df[outlier].boxplot(figsize=(10,5))\n",
        "plt.show()"
      ],
      "execution_count": null,
      "outputs": [
        {
          "output_type": "display_data",
          "data": {
            "image/png": "[encoded data removed]",
            "text/plain": [
              "<Figure size 720x360 with 1 Axes>"
            ]
          },
          "metadata": {
            "tags": [],
            "needs_background": "light"
          }
        }
      ]
    },
    {
      "cell_type": "markdown",
      "metadata": {
        "id": "SbAKCswjrTeR"
      },
      "source": [
        "We'll have a look at the amount of outliers left for these features."
      ]
    },
    {
      "cell_type": "code",
      "metadata": {
        "colab": {
          "base_uri": "https://localhost:8080/"
        },
        "id": "GF_llTBDIVFl",
        "outputId": "3c4dbca5-9fed-49db-c952-3cea193cc421"
      },
      "source": [
        "upb_cl = round(df['Credit_Limit'].quantile(0.75) + 1.5*IQR[0], 3)\n",
        "upb_tt = round(df['Total_Trans_Amt'].quantile(0.75) + 1.5*IQR[1], 3)\n",
        "outNum_cl = len(df[(df['Credit_Limit']>upb_cl) == True].index)\n",
        "outNum_tt = len(df[(df['Total_Trans_Amt']>upb_tt) == True].index)\n",
        "print(outNum_cl, outNum_tt)"
      ],
      "execution_count": null,
      "outputs": [
        {
          "output_type": "stream",
          "text": [
            "195 38\n"
          ],
          "name": "stdout"
        }
      ]
    },
    {
      "cell_type": "code",
      "metadata": {
        "colab": {
          "base_uri": "https://localhost:8080/",
          "height": 294
        },
        "id": "5p_aPDXls9nK",
        "outputId": "0df07de3-5947-45cb-bb77-c07a1c56a89c"
      },
      "source": [
        "df[outlier].describe()"
      ],
      "execution_count": null,
      "outputs": [
        {
          "output_type": "execute_result",
          "data": {
            "text/html": [
              "<div>\n",
              "<style scoped>\n",
              "    .dataframe tbody tr th:only-of-type {\n",
              "        vertical-align: middle;\n",
              "    }\n",
              "\n",
              "    .dataframe tbody tr th {\n",
              "        vertical-align: top;\n",
              "    }\n",
              "\n",
              "    .dataframe thead th {\n",
              "        text-align: right;\n",
              "    }\n",
              "</style>\n",
              "<table border=\"1\" class=\"dataframe\">\n",
              "  <thead>\n",
              "    <tr style=\"text-align: right;\">\n",
              "      <th></th>\n",
              "      <th>Credit_Limit</th>\n",
              "      <th>Total_Trans_Amt</th>\n",
              "    </tr>\n",
              "  </thead>\n",
              "  <tbody>\n",
              "    <tr>\n",
              "      <th>count</th>\n",
              "      <td>8443.000000</td>\n",
              "      <td>8443.000000</td>\n",
              "    </tr>\n",
              "    <tr>\n",
              "      <th>mean</th>\n",
              "      <td>5917.758036</td>\n",
              "      <td>3473.224446</td>\n",
              "    </tr>\n",
              "    <tr>\n",
              "      <th>std</th>\n",
              "      <td>5115.762020</td>\n",
              "      <td>1616.368443</td>\n",
              "    </tr>\n",
              "    <tr>\n",
              "      <th>min</th>\n",
              "      <td>1438.300000</td>\n",
              "      <td>510.000000</td>\n",
              "    </tr>\n",
              "    <tr>\n",
              "      <th>25%</th>\n",
              "      <td>2358.000000</td>\n",
              "      <td>2064.000000</td>\n",
              "    </tr>\n",
              "    <tr>\n",
              "      <th>50%</th>\n",
              "      <td>3624.000000</td>\n",
              "      <td>3683.000000</td>\n",
              "    </tr>\n",
              "    <tr>\n",
              "      <th>75%</th>\n",
              "      <td>7940.500000</td>\n",
              "      <td>4520.000000</td>\n",
              "    </tr>\n",
              "    <tr>\n",
              "      <th>max</th>\n",
              "      <td>23742.000000</td>\n",
              "      <td>8618.000000</td>\n",
              "    </tr>\n",
              "  </tbody>\n",
              "</table>\n",
              "</div>"
            ],
            "text/plain": [
              "       Credit_Limit  Total_Trans_Amt\n",
              "count   8443.000000      8443.000000\n",
              "mean    5917.758036      3473.224446\n",
              "std     5115.762020      1616.368443\n",
              "min     1438.300000       510.000000\n",
              "25%     2358.000000      2064.000000\n",
              "50%     3624.000000      3683.000000\n",
              "75%     7940.500000      4520.000000\n",
              "max    23742.000000      8618.000000"
            ]
          },
          "metadata": {
            "tags": []
          },
          "execution_count": 24
        }
      ]
    },
    {
      "cell_type": "markdown",
      "metadata": {
        "id": "Wg2NatgV06w_"
      },
      "source": [
        "Let's come back to our dataset and see the statistics again.\n"
      ]
    },
    {
      "cell_type": "code",
      "metadata": {
        "colab": {
          "base_uri": "https://localhost:8080/",
          "height": 314
        },
        "id": "2Z1Aac3O072u",
        "outputId": "a773b495-a52a-436b-c517-894f61105429"
      },
      "source": [
        "df.describe()"
      ],
      "execution_count": null,
      "outputs": [
        {
          "output_type": "execute_result",
          "data": {
            "text/html": [
              "<div>\n",
              "<style scoped>\n",
              "    .dataframe tbody tr th:only-of-type {\n",
              "        vertical-align: middle;\n",
              "    }\n",
              "\n",
              "    .dataframe tbody tr th {\n",
              "        vertical-align: top;\n",
              "    }\n",
              "\n",
              "    .dataframe thead th {\n",
              "        text-align: right;\n",
              "    }\n",
              "</style>\n",
              "<table border=\"1\" class=\"dataframe\">\n",
              "  <thead>\n",
              "    <tr style=\"text-align: right;\">\n",
              "      <th></th>\n",
              "      <th>Customer_Age</th>\n",
              "      <th>Dependent_count</th>\n",
              "      <th>Months_on_book</th>\n",
              "      <th>Total_Relationship_Count</th>\n",
              "      <th>Months_Inactive_12_mon</th>\n",
              "      <th>Contacts_Count_12_mon</th>\n",
              "      <th>Credit_Limit</th>\n",
              "      <th>Total_Revolving_Bal</th>\n",
              "      <th>Total_Amt_Chng_Q4_Q1</th>\n",
              "      <th>Total_Trans_Amt</th>\n",
              "      <th>Total_Trans_Ct</th>\n",
              "      <th>Total_Ct_Chng_Q4_Q1</th>\n",
              "      <th>Avg_Utilization_Ratio</th>\n",
              "    </tr>\n",
              "  </thead>\n",
              "  <tbody>\n",
              "    <tr>\n",
              "      <th>count</th>\n",
              "      <td>8443.000000</td>\n",
              "      <td>8443.000000</td>\n",
              "      <td>8443.000000</td>\n",
              "      <td>8443.000000</td>\n",
              "      <td>8443.000000</td>\n",
              "      <td>8443.000000</td>\n",
              "      <td>8443.000000</td>\n",
              "      <td>8443.000000</td>\n",
              "      <td>8443.000000</td>\n",
              "      <td>8443.000000</td>\n",
              "      <td>8443.000000</td>\n",
              "      <td>8443.000000</td>\n",
              "      <td>8443.000000</td>\n",
              "    </tr>\n",
              "    <tr>\n",
              "      <th>mean</th>\n",
              "      <td>46.435390</td>\n",
              "      <td>2.328082</td>\n",
              "      <td>36.003672</td>\n",
              "      <td>3.968021</td>\n",
              "      <td>2.352363</td>\n",
              "      <td>2.463579</td>\n",
              "      <td>5917.758036</td>\n",
              "      <td>1144.413005</td>\n",
              "      <td>0.757103</td>\n",
              "      <td>3473.224446</td>\n",
              "      <td>60.978562</td>\n",
              "      <td>0.709307</td>\n",
              "      <td>0.307709</td>\n",
              "    </tr>\n",
              "    <tr>\n",
              "      <th>std</th>\n",
              "      <td>8.121089</td>\n",
              "      <td>1.298461</td>\n",
              "      <td>8.076269</td>\n",
              "      <td>1.492989</td>\n",
              "      <td>1.017655</td>\n",
              "      <td>1.111715</td>\n",
              "      <td>5115.762020</td>\n",
              "      <td>817.409562</td>\n",
              "      <td>0.226670</td>\n",
              "      <td>1616.368443</td>\n",
              "      <td>20.016154</td>\n",
              "      <td>0.245939</td>\n",
              "      <td>0.283105</td>\n",
              "    </tr>\n",
              "    <tr>\n",
              "      <th>min</th>\n",
              "      <td>26.000000</td>\n",
              "      <td>0.000000</td>\n",
              "      <td>13.000000</td>\n",
              "      <td>1.000000</td>\n",
              "      <td>0.000000</td>\n",
              "      <td>0.000000</td>\n",
              "      <td>1438.300000</td>\n",
              "      <td>0.000000</td>\n",
              "      <td>0.000000</td>\n",
              "      <td>510.000000</td>\n",
              "      <td>10.000000</td>\n",
              "      <td>0.000000</td>\n",
              "      <td>0.000000</td>\n",
              "    </tr>\n",
              "    <tr>\n",
              "      <th>25%</th>\n",
              "      <td>41.000000</td>\n",
              "      <td>1.000000</td>\n",
              "      <td>31.000000</td>\n",
              "      <td>3.000000</td>\n",
              "      <td>2.000000</td>\n",
              "      <td>2.000000</td>\n",
              "      <td>2358.000000</td>\n",
              "      <td>0.000000</td>\n",
              "      <td>0.623000</td>\n",
              "      <td>2064.000000</td>\n",
              "      <td>43.000000</td>\n",
              "      <td>0.571000</td>\n",
              "      <td>0.000000</td>\n",
              "    </tr>\n",
              "    <tr>\n",
              "      <th>50%</th>\n",
              "      <td>46.000000</td>\n",
              "      <td>2.000000</td>\n",
              "      <td>36.000000</td>\n",
              "      <td>4.000000</td>\n",
              "      <td>2.000000</td>\n",
              "      <td>2.000000</td>\n",
              "      <td>3624.000000</td>\n",
              "      <td>1255.000000</td>\n",
              "      <td>0.730000</td>\n",
              "      <td>3683.000000</td>\n",
              "      <td>65.000000</td>\n",
              "      <td>0.694000</td>\n",
              "      <td>0.232000</td>\n",
              "    </tr>\n",
              "    <tr>\n",
              "      <th>75%</th>\n",
              "      <td>52.000000</td>\n",
              "      <td>3.000000</td>\n",
              "      <td>41.000000</td>\n",
              "      <td>5.000000</td>\n",
              "      <td>3.000000</td>\n",
              "      <td>3.000000</td>\n",
              "      <td>7940.500000</td>\n",
              "      <td>1768.000000</td>\n",
              "      <td>0.857000</td>\n",
              "      <td>4520.000000</td>\n",
              "      <td>77.000000</td>\n",
              "      <td>0.822000</td>\n",
              "      <td>0.556000</td>\n",
              "    </tr>\n",
              "    <tr>\n",
              "      <th>max</th>\n",
              "      <td>73.000000</td>\n",
              "      <td>5.000000</td>\n",
              "      <td>56.000000</td>\n",
              "      <td>6.000000</td>\n",
              "      <td>6.000000</td>\n",
              "      <td>6.000000</td>\n",
              "      <td>23742.000000</td>\n",
              "      <td>2517.000000</td>\n",
              "      <td>3.397000</td>\n",
              "      <td>8618.000000</td>\n",
              "      <td>113.000000</td>\n",
              "      <td>3.714000</td>\n",
              "      <td>0.999000</td>\n",
              "    </tr>\n",
              "  </tbody>\n",
              "</table>\n",
              "</div>"
            ],
            "text/plain": [
              "       Customer_Age  ...  Avg_Utilization_Ratio\n",
              "count   8443.000000  ...            8443.000000\n",
              "mean      46.435390  ...               0.307709\n",
              "std        8.121089  ...               0.283105\n",
              "min       26.000000  ...               0.000000\n",
              "25%       41.000000  ...               0.000000\n",
              "50%       46.000000  ...               0.232000\n",
              "75%       52.000000  ...               0.556000\n",
              "max       73.000000  ...               0.999000\n",
              "\n",
              "[8 rows x 13 columns]"
            ]
          },
          "metadata": {
            "tags": []
          },
          "execution_count": 25
        }
      ]
    },
    {
      "cell_type": "code",
      "metadata": {
        "colab": {
          "base_uri": "https://localhost:8080/"
        },
        "id": "3ISvoXwV4taP",
        "outputId": "243ea311-9e71-4f0d-86d9-ddb9733a0767"
      },
      "source": [
        "df[outlier].info()"
      ],
      "execution_count": null,
      "outputs": [
        {
          "output_type": "stream",
          "text": [
            "<class 'pandas.core.frame.DataFrame'>\n",
            "Int64Index: 8443 entries, 0 to 10125\n",
            "Data columns (total 2 columns):\n",
            " #   Column           Non-Null Count  Dtype  \n",
            "---  ------           --------------  -----  \n",
            " 0   Credit_Limit     8443 non-null   float64\n",
            " 1   Total_Trans_Amt  8443 non-null   int64  \n",
            "dtypes: float64(1), int64(1)\n",
            "memory usage: 197.9 KB\n"
          ],
          "name": "stdout"
        }
      ]
    },
    {
      "cell_type": "markdown",
      "metadata": {
        "id": "LxXUf_hx53f2"
      },
      "source": [
        "## *3. Feature engineering:*\n",
        "\n",
        "Since Machine learning algorithms require input and target variables to be numerical so in this part, we will transform our categorical values into numeric ones.\n",
        "\n",
        "We'll be using **SKLearn's LabelEncoder** to deal with categorical variables.\n",
        "Fit and transform categorical variables, including our target attribute."
      ]
    },
    {
      "cell_type": "code",
      "metadata": {
        "colab": {
          "base_uri": "https://localhost:8080/",
          "height": 375
        },
        "id": "ti41QUuIAztX",
        "outputId": "e01e91af-7b37-4aa2-d549-297a972dbd19"
      },
      "source": [
        "from sklearn.preprocessing import LabelEncoder\n",
        "\n",
        "label_encoder = LabelEncoder()\n",
        "df_trans = df.copy()\n",
        "for i in cat_vars:\n",
        "  df_trans[i] = label_encoder.fit_transform(df[i])\n",
        "df_trans.head(10)"
      ],
      "execution_count": null,
      "outputs": [
        {
          "output_type": "execute_result",
          "data": {
            "text/html": [
              "<div>\n",
              "<style scoped>\n",
              "    .dataframe tbody tr th:only-of-type {\n",
              "        vertical-align: middle;\n",
              "    }\n",
              "\n",
              "    .dataframe tbody tr th {\n",
              "        vertical-align: top;\n",
              "    }\n",
              "\n",
              "    .dataframe thead th {\n",
              "        text-align: right;\n",
              "    }\n",
              "</style>\n",
              "<table border=\"1\" class=\"dataframe\">\n",
              "  <thead>\n",
              "    <tr style=\"text-align: right;\">\n",
              "      <th></th>\n",
              "      <th>Attrition_Flag</th>\n",
              "      <th>Customer_Age</th>\n",
              "      <th>Gender</th>\n",
              "      <th>Dependent_count</th>\n",
              "      <th>Education_Level</th>\n",
              "      <th>Marital_Status</th>\n",
              "      <th>Income_Category</th>\n",
              "      <th>Card_Category</th>\n",
              "      <th>Months_on_book</th>\n",
              "      <th>Total_Relationship_Count</th>\n",
              "      <th>Months_Inactive_12_mon</th>\n",
              "      <th>Contacts_Count_12_mon</th>\n",
              "      <th>Credit_Limit</th>\n",
              "      <th>Total_Revolving_Bal</th>\n",
              "      <th>Total_Amt_Chng_Q4_Q1</th>\n",
              "      <th>Total_Trans_Amt</th>\n",
              "      <th>Total_Trans_Ct</th>\n",
              "      <th>Total_Ct_Chng_Q4_Q1</th>\n",
              "      <th>Avg_Utilization_Ratio</th>\n",
              "    </tr>\n",
              "  </thead>\n",
              "  <tbody>\n",
              "    <tr>\n",
              "      <th>0</th>\n",
              "      <td>1</td>\n",
              "      <td>45</td>\n",
              "      <td>1</td>\n",
              "      <td>3</td>\n",
              "      <td>3</td>\n",
              "      <td>1</td>\n",
              "      <td>2</td>\n",
              "      <td>0</td>\n",
              "      <td>39</td>\n",
              "      <td>5</td>\n",
              "      <td>1</td>\n",
              "      <td>3</td>\n",
              "      <td>12691.0</td>\n",
              "      <td>777</td>\n",
              "      <td>1.335</td>\n",
              "      <td>1144</td>\n",
              "      <td>42</td>\n",
              "      <td>1.625</td>\n",
              "      <td>0.061</td>\n",
              "    </tr>\n",
              "    <tr>\n",
              "      <th>1</th>\n",
              "      <td>1</td>\n",
              "      <td>49</td>\n",
              "      <td>0</td>\n",
              "      <td>5</td>\n",
              "      <td>2</td>\n",
              "      <td>2</td>\n",
              "      <td>4</td>\n",
              "      <td>0</td>\n",
              "      <td>44</td>\n",
              "      <td>6</td>\n",
              "      <td>1</td>\n",
              "      <td>2</td>\n",
              "      <td>8256.0</td>\n",
              "      <td>864</td>\n",
              "      <td>1.541</td>\n",
              "      <td>1291</td>\n",
              "      <td>33</td>\n",
              "      <td>3.714</td>\n",
              "      <td>0.105</td>\n",
              "    </tr>\n",
              "    <tr>\n",
              "      <th>2</th>\n",
              "      <td>1</td>\n",
              "      <td>51</td>\n",
              "      <td>1</td>\n",
              "      <td>3</td>\n",
              "      <td>2</td>\n",
              "      <td>1</td>\n",
              "      <td>3</td>\n",
              "      <td>0</td>\n",
              "      <td>36</td>\n",
              "      <td>4</td>\n",
              "      <td>1</td>\n",
              "      <td>0</td>\n",
              "      <td>3418.0</td>\n",
              "      <td>0</td>\n",
              "      <td>2.594</td>\n",
              "      <td>1887</td>\n",
              "      <td>20</td>\n",
              "      <td>2.333</td>\n",
              "      <td>0.000</td>\n",
              "    </tr>\n",
              "    <tr>\n",
              "      <th>3</th>\n",
              "      <td>1</td>\n",
              "      <td>40</td>\n",
              "      <td>0</td>\n",
              "      <td>4</td>\n",
              "      <td>3</td>\n",
              "      <td>3</td>\n",
              "      <td>4</td>\n",
              "      <td>0</td>\n",
              "      <td>34</td>\n",
              "      <td>3</td>\n",
              "      <td>4</td>\n",
              "      <td>1</td>\n",
              "      <td>3313.0</td>\n",
              "      <td>2517</td>\n",
              "      <td>1.405</td>\n",
              "      <td>1171</td>\n",
              "      <td>20</td>\n",
              "      <td>2.333</td>\n",
              "      <td>0.760</td>\n",
              "    </tr>\n",
              "    <tr>\n",
              "      <th>4</th>\n",
              "      <td>1</td>\n",
              "      <td>40</td>\n",
              "      <td>1</td>\n",
              "      <td>3</td>\n",
              "      <td>5</td>\n",
              "      <td>1</td>\n",
              "      <td>2</td>\n",
              "      <td>0</td>\n",
              "      <td>21</td>\n",
              "      <td>5</td>\n",
              "      <td>1</td>\n",
              "      <td>0</td>\n",
              "      <td>4716.0</td>\n",
              "      <td>0</td>\n",
              "      <td>2.175</td>\n",
              "      <td>816</td>\n",
              "      <td>28</td>\n",
              "      <td>2.500</td>\n",
              "      <td>0.000</td>\n",
              "    </tr>\n",
              "    <tr>\n",
              "      <th>5</th>\n",
              "      <td>1</td>\n",
              "      <td>44</td>\n",
              "      <td>1</td>\n",
              "      <td>2</td>\n",
              "      <td>2</td>\n",
              "      <td>1</td>\n",
              "      <td>1</td>\n",
              "      <td>0</td>\n",
              "      <td>36</td>\n",
              "      <td>3</td>\n",
              "      <td>1</td>\n",
              "      <td>2</td>\n",
              "      <td>4010.0</td>\n",
              "      <td>1247</td>\n",
              "      <td>1.376</td>\n",
              "      <td>1088</td>\n",
              "      <td>24</td>\n",
              "      <td>0.846</td>\n",
              "      <td>0.311</td>\n",
              "    </tr>\n",
              "    <tr>\n",
              "      <th>8</th>\n",
              "      <td>1</td>\n",
              "      <td>37</td>\n",
              "      <td>1</td>\n",
              "      <td>3</td>\n",
              "      <td>5</td>\n",
              "      <td>2</td>\n",
              "      <td>2</td>\n",
              "      <td>0</td>\n",
              "      <td>36</td>\n",
              "      <td>5</td>\n",
              "      <td>2</td>\n",
              "      <td>0</td>\n",
              "      <td>22352.0</td>\n",
              "      <td>2517</td>\n",
              "      <td>3.355</td>\n",
              "      <td>1350</td>\n",
              "      <td>24</td>\n",
              "      <td>1.182</td>\n",
              "      <td>0.113</td>\n",
              "    </tr>\n",
              "    <tr>\n",
              "      <th>9</th>\n",
              "      <td>1</td>\n",
              "      <td>48</td>\n",
              "      <td>1</td>\n",
              "      <td>2</td>\n",
              "      <td>2</td>\n",
              "      <td>2</td>\n",
              "      <td>3</td>\n",
              "      <td>0</td>\n",
              "      <td>36</td>\n",
              "      <td>6</td>\n",
              "      <td>3</td>\n",
              "      <td>3</td>\n",
              "      <td>11656.0</td>\n",
              "      <td>1677</td>\n",
              "      <td>1.524</td>\n",
              "      <td>1441</td>\n",
              "      <td>32</td>\n",
              "      <td>0.882</td>\n",
              "      <td>0.144</td>\n",
              "    </tr>\n",
              "    <tr>\n",
              "      <th>10</th>\n",
              "      <td>1</td>\n",
              "      <td>42</td>\n",
              "      <td>1</td>\n",
              "      <td>5</td>\n",
              "      <td>5</td>\n",
              "      <td>3</td>\n",
              "      <td>0</td>\n",
              "      <td>0</td>\n",
              "      <td>31</td>\n",
              "      <td>5</td>\n",
              "      <td>3</td>\n",
              "      <td>2</td>\n",
              "      <td>6748.0</td>\n",
              "      <td>1467</td>\n",
              "      <td>0.831</td>\n",
              "      <td>1201</td>\n",
              "      <td>42</td>\n",
              "      <td>0.680</td>\n",
              "      <td>0.217</td>\n",
              "    </tr>\n",
              "    <tr>\n",
              "      <th>11</th>\n",
              "      <td>1</td>\n",
              "      <td>65</td>\n",
              "      <td>1</td>\n",
              "      <td>1</td>\n",
              "      <td>6</td>\n",
              "      <td>1</td>\n",
              "      <td>1</td>\n",
              "      <td>0</td>\n",
              "      <td>54</td>\n",
              "      <td>6</td>\n",
              "      <td>2</td>\n",
              "      <td>3</td>\n",
              "      <td>9095.0</td>\n",
              "      <td>1587</td>\n",
              "      <td>1.433</td>\n",
              "      <td>1314</td>\n",
              "      <td>26</td>\n",
              "      <td>1.364</td>\n",
              "      <td>0.174</td>\n",
              "    </tr>\n",
              "  </tbody>\n",
              "</table>\n",
              "</div>"
            ],
            "text/plain": [
              "    Attrition_Flag  Customer_Age  ...  Total_Ct_Chng_Q4_Q1  Avg_Utilization_Ratio\n",
              "0                1            45  ...                1.625                  0.061\n",
              "1                1            49  ...                3.714                  0.105\n",
              "2                1            51  ...                2.333                  0.000\n",
              "3                1            40  ...                2.333                  0.760\n",
              "4                1            40  ...                2.500                  0.000\n",
              "5                1            44  ...                0.846                  0.311\n",
              "8                1            37  ...                1.182                  0.113\n",
              "9                1            48  ...                0.882                  0.144\n",
              "10               1            42  ...                0.680                  0.217\n",
              "11               1            65  ...                1.364                  0.174\n",
              "\n",
              "[10 rows x 19 columns]"
            ]
          },
          "metadata": {
            "tags": []
          },
          "execution_count": 27
        }
      ]
    },
    {
      "cell_type": "markdown",
      "metadata": {
        "id": "ndVu9sPk7J2H"
      },
      "source": [
        "We can see that our dataset now is purely numerical, as required to apply ML algorithms."
      ]
    },
    {
      "cell_type": "markdown",
      "metadata": {
        "id": "22ydmIgu7MYF"
      },
      "source": [
        "## *4. Feature scalling:*\n",
        "\n",
        "As the entries of our dataset are of different scales, we're going to scale them to a certain range."
      ]
    },
    {
      "cell_type": "markdown",
      "metadata": {
        "id": "adEFNquf7xVl"
      },
      "source": [
        "Because we only scales the input features, so we will set up target variable in y and drop the target column in transformed data frame."
      ]
    },
    {
      "cell_type": "code",
      "metadata": {
        "colab": {
          "base_uri": "https://localhost:8080/"
        },
        "id": "mAq3l0OiCDcJ",
        "outputId": "d9bc1e62-5364-4fd5-acbd-6bfca35733ad"
      },
      "source": [
        "y = df_trans['Attrition_Flag']\n",
        "df_trans = df_trans.drop(columns='Attrition_Flag', axis=1)\n",
        "df_copy=df_trans\n",
        "print(Counter(y))"
      ],
      "execution_count": null,
      "outputs": [
        {
          "output_type": "stream",
          "text": [
            "Counter({1: 7042, 0: 1401})\n"
          ],
          "name": "stdout"
        }
      ]
    },
    {
      "cell_type": "code",
      "metadata": {
        "colab": {
          "base_uri": "https://localhost:8080/"
        },
        "id": "rDFUyU5CN4UG",
        "outputId": "9782a27a-ba82-48d6-f3fe-5ed2bee807c6"
      },
      "source": [
        "# After cleanup and segregation of target data, the number of independent variables left are 18\n",
        "len(df_trans.columns)"
      ],
      "execution_count": null,
      "outputs": [
        {
          "output_type": "execute_result",
          "data": {
            "text/plain": [
              "18"
            ]
          },
          "metadata": {
            "tags": []
          },
          "execution_count": 29
        }
      ]
    },
    {
      "cell_type": "markdown",
      "metadata": {
        "id": "Ueepubl5Kac_"
      },
      "source": [
        "We will use **StandardScaler** to redistribute the features with their mean μ = 0 and standard deviation σ =1."
      ]
    },
    {
      "cell_type": "code",
      "metadata": {
        "colab": {
          "base_uri": "https://localhost:8080/",
          "height": 375
        },
        "id": "Vi2qSnIagV7U",
        "outputId": "f135acbf-64f8-4230-a686-6901d78294e0"
      },
      "source": [
        "from sklearn.preprocessing import StandardScaler\n",
        "\n",
        "standard_scaler = StandardScaler()\n",
        "input_vars = [i for i in df_trans.columns]\n",
        "df_trans[input_vars] = standard_scaler.fit_transform(df_trans[input_vars])\n",
        "df_trans.head(10)"
      ],
      "execution_count": null,
      "outputs": [
        {
          "output_type": "execute_result",
          "data": {
            "text/html": [
              "<div>\n",
              "<style scoped>\n",
              "    .dataframe tbody tr th:only-of-type {\n",
              "        vertical-align: middle;\n",
              "    }\n",
              "\n",
              "    .dataframe tbody tr th {\n",
              "        vertical-align: top;\n",
              "    }\n",
              "\n",
              "    .dataframe thead th {\n",
              "        text-align: right;\n",
              "    }\n",
              "</style>\n",
              "<table border=\"1\" class=\"dataframe\">\n",
              "  <thead>\n",
              "    <tr style=\"text-align: right;\">\n",
              "      <th></th>\n",
              "      <th>Customer_Age</th>\n",
              "      <th>Gender</th>\n",
              "      <th>Dependent_count</th>\n",
              "      <th>Education_Level</th>\n",
              "      <th>Marital_Status</th>\n",
              "      <th>Income_Category</th>\n",
              "      <th>Card_Category</th>\n",
              "      <th>Months_on_book</th>\n",
              "      <th>Total_Relationship_Count</th>\n",
              "      <th>Months_Inactive_12_mon</th>\n",
              "      <th>Contacts_Count_12_mon</th>\n",
              "      <th>Credit_Limit</th>\n",
              "      <th>Total_Revolving_Bal</th>\n",
              "      <th>Total_Amt_Chng_Q4_Q1</th>\n",
              "      <th>Total_Trans_Amt</th>\n",
              "      <th>Total_Trans_Ct</th>\n",
              "      <th>Total_Ct_Chng_Q4_Q1</th>\n",
              "      <th>Avg_Utilization_Ratio</th>\n",
              "    </tr>\n",
              "  </thead>\n",
              "  <tbody>\n",
              "    <tr>\n",
              "      <th>0</th>\n",
              "      <td>-0.176759</td>\n",
              "      <td>1.184923</td>\n",
              "      <td>0.517503</td>\n",
              "      <td>-0.045158</td>\n",
              "      <td>-0.627528</td>\n",
              "      <td>-0.655825</td>\n",
              "      <td>-0.149052</td>\n",
              "      <td>0.371026</td>\n",
              "      <td>0.691258</td>\n",
              "      <td>-1.328980</td>\n",
              "      <td>0.482545</td>\n",
              "      <td>1.324073</td>\n",
              "      <td>-0.449511</td>\n",
              "      <td>2.549664</td>\n",
              "      <td>-1.441109</td>\n",
              "      <td>-0.948218</td>\n",
              "      <td>3.723476</td>\n",
              "      <td>-0.871491</td>\n",
              "    </tr>\n",
              "    <tr>\n",
              "      <th>1</th>\n",
              "      <td>0.315815</td>\n",
              "      <td>-0.843936</td>\n",
              "      <td>2.057880</td>\n",
              "      <td>-0.589825</td>\n",
              "      <td>0.739401</td>\n",
              "      <td>0.705151</td>\n",
              "      <td>-0.149052</td>\n",
              "      <td>0.990160</td>\n",
              "      <td>1.361094</td>\n",
              "      <td>-1.328980</td>\n",
              "      <td>-0.417019</td>\n",
              "      <td>0.457093</td>\n",
              "      <td>-0.343071</td>\n",
              "      <td>3.458530</td>\n",
              "      <td>-1.350159</td>\n",
              "      <td>-1.397882</td>\n",
              "      <td>12.217967</td>\n",
              "      <td>-0.716062</td>\n",
              "    </tr>\n",
              "    <tr>\n",
              "      <th>2</th>\n",
              "      <td>0.562102</td>\n",
              "      <td>1.184923</td>\n",
              "      <td>0.517503</td>\n",
              "      <td>-0.589825</td>\n",
              "      <td>-0.627528</td>\n",
              "      <td>0.024663</td>\n",
              "      <td>-0.149052</td>\n",
              "      <td>-0.000455</td>\n",
              "      <td>0.021421</td>\n",
              "      <td>-1.328980</td>\n",
              "      <td>-2.216149</td>\n",
              "      <td>-0.488667</td>\n",
              "      <td>-1.400131</td>\n",
              "      <td>8.104332</td>\n",
              "      <td>-0.981409</td>\n",
              "      <td>-2.047396</td>\n",
              "      <td>6.602413</td>\n",
              "      <td>-1.086972</td>\n",
              "    </tr>\n",
              "    <tr>\n",
              "      <th>3</th>\n",
              "      <td>-0.792476</td>\n",
              "      <td>-0.843936</td>\n",
              "      <td>1.287691</td>\n",
              "      <td>-0.045158</td>\n",
              "      <td>2.106330</td>\n",
              "      <td>0.705151</td>\n",
              "      <td>-0.149052</td>\n",
              "      <td>-0.248108</td>\n",
              "      <td>-0.648416</td>\n",
              "      <td>1.619148</td>\n",
              "      <td>-1.316584</td>\n",
              "      <td>-0.509193</td>\n",
              "      <td>1.679291</td>\n",
              "      <td>2.858502</td>\n",
              "      <td>-1.424403</td>\n",
              "      <td>-2.047396</td>\n",
              "      <td>6.602413</td>\n",
              "      <td>1.597706</td>\n",
              "    </tr>\n",
              "    <tr>\n",
              "      <th>4</th>\n",
              "      <td>-0.792476</td>\n",
              "      <td>1.184923</td>\n",
              "      <td>0.517503</td>\n",
              "      <td>1.044177</td>\n",
              "      <td>-0.627528</td>\n",
              "      <td>-0.655825</td>\n",
              "      <td>-0.149052</td>\n",
              "      <td>-1.857858</td>\n",
              "      <td>0.691258</td>\n",
              "      <td>-1.328980</td>\n",
              "      <td>-2.216149</td>\n",
              "      <td>-0.234927</td>\n",
              "      <td>-1.400131</td>\n",
              "      <td>6.255717</td>\n",
              "      <td>-1.644045</td>\n",
              "      <td>-1.647695</td>\n",
              "      <td>7.281485</td>\n",
              "      <td>-1.086972</td>\n",
              "    </tr>\n",
              "    <tr>\n",
              "      <th>5</th>\n",
              "      <td>-0.299902</td>\n",
              "      <td>1.184923</td>\n",
              "      <td>-0.252685</td>\n",
              "      <td>-0.589825</td>\n",
              "      <td>-0.627528</td>\n",
              "      <td>-1.336313</td>\n",
              "      <td>-0.149052</td>\n",
              "      <td>-0.000455</td>\n",
              "      <td>-0.648416</td>\n",
              "      <td>-1.328980</td>\n",
              "      <td>-0.417019</td>\n",
              "      <td>-0.372940</td>\n",
              "      <td>0.125510</td>\n",
              "      <td>2.730555</td>\n",
              "      <td>-1.475756</td>\n",
              "      <td>-1.847545</td>\n",
              "      <td>0.555832</td>\n",
              "      <td>0.011627</td>\n",
              "    </tr>\n",
              "    <tr>\n",
              "      <th>8</th>\n",
              "      <td>-1.161907</td>\n",
              "      <td>1.184923</td>\n",
              "      <td>0.517503</td>\n",
              "      <td>1.044177</td>\n",
              "      <td>0.739401</td>\n",
              "      <td>-0.655825</td>\n",
              "      <td>-0.149052</td>\n",
              "      <td>-0.000455</td>\n",
              "      <td>0.691258</td>\n",
              "      <td>-0.346270</td>\n",
              "      <td>-2.216149</td>\n",
              "      <td>3.212662</td>\n",
              "      <td>1.679291</td>\n",
              "      <td>11.461840</td>\n",
              "      <td>-1.313655</td>\n",
              "      <td>-1.847545</td>\n",
              "      <td>1.922107</td>\n",
              "      <td>-0.687803</td>\n",
              "    </tr>\n",
              "    <tr>\n",
              "      <th>9</th>\n",
              "      <td>0.192672</td>\n",
              "      <td>1.184923</td>\n",
              "      <td>-0.252685</td>\n",
              "      <td>-0.589825</td>\n",
              "      <td>0.739401</td>\n",
              "      <td>0.024663</td>\n",
              "      <td>-0.149052</td>\n",
              "      <td>-0.000455</td>\n",
              "      <td>1.361094</td>\n",
              "      <td>0.636439</td>\n",
              "      <td>0.482545</td>\n",
              "      <td>1.121745</td>\n",
              "      <td>0.651593</td>\n",
              "      <td>3.383526</td>\n",
              "      <td>-1.257352</td>\n",
              "      <td>-1.447844</td>\n",
              "      <td>0.702219</td>\n",
              "      <td>-0.578296</td>\n",
              "    </tr>\n",
              "    <tr>\n",
              "      <th>10</th>\n",
              "      <td>-0.546189</td>\n",
              "      <td>1.184923</td>\n",
              "      <td>2.057880</td>\n",
              "      <td>1.044177</td>\n",
              "      <td>2.106330</td>\n",
              "      <td>-2.016801</td>\n",
              "      <td>-0.149052</td>\n",
              "      <td>-0.619589</td>\n",
              "      <td>0.691258</td>\n",
              "      <td>0.636439</td>\n",
              "      <td>-0.417019</td>\n",
              "      <td>0.162301</td>\n",
              "      <td>0.394669</td>\n",
              "      <td>0.326033</td>\n",
              "      <td>-1.405842</td>\n",
              "      <td>-0.948218</td>\n",
              "      <td>-0.119173</td>\n",
              "      <td>-0.320426</td>\n",
              "    </tr>\n",
              "    <tr>\n",
              "      <th>11</th>\n",
              "      <td>2.286111</td>\n",
              "      <td>1.184923</td>\n",
              "      <td>-1.022874</td>\n",
              "      <td>1.588844</td>\n",
              "      <td>-0.627528</td>\n",
              "      <td>-1.336313</td>\n",
              "      <td>-0.149052</td>\n",
              "      <td>2.228429</td>\n",
              "      <td>1.361094</td>\n",
              "      <td>-0.346270</td>\n",
              "      <td>0.482545</td>\n",
              "      <td>0.621106</td>\n",
              "      <td>0.541483</td>\n",
              "      <td>2.982037</td>\n",
              "      <td>-1.335928</td>\n",
              "      <td>-1.747620</td>\n",
              "      <td>2.662173</td>\n",
              "      <td>-0.472322</td>\n",
              "    </tr>\n",
              "  </tbody>\n",
              "</table>\n",
              "</div>"
            ],
            "text/plain": [
              "    Customer_Age    Gender  ...  Total_Ct_Chng_Q4_Q1  Avg_Utilization_Ratio\n",
              "0      -0.176759  1.184923  ...             3.723476              -0.871491\n",
              "1       0.315815 -0.843936  ...            12.217967              -0.716062\n",
              "2       0.562102  1.184923  ...             6.602413              -1.086972\n",
              "3      -0.792476 -0.843936  ...             6.602413               1.597706\n",
              "4      -0.792476  1.184923  ...             7.281485              -1.086972\n",
              "5      -0.299902  1.184923  ...             0.555832               0.011627\n",
              "8      -1.161907  1.184923  ...             1.922107              -0.687803\n",
              "9       0.192672  1.184923  ...             0.702219              -0.578296\n",
              "10     -0.546189  1.184923  ...            -0.119173              -0.320426\n",
              "11      2.286111  1.184923  ...             2.662173              -0.472322\n",
              "\n",
              "[10 rows x 18 columns]"
            ]
          },
          "metadata": {
            "tags": []
          },
          "execution_count": 30
        }
      ]
    },
    {
      "cell_type": "markdown",
      "metadata": {
        "id": "Np4eWX298sLN"
      },
      "source": [
        "Let's see the statistics of the dataset of scalling"
      ]
    },
    {
      "cell_type": "code",
      "metadata": {
        "colab": {
          "base_uri": "https://localhost:8080/",
          "height": 366
        },
        "id": "lwO6Ap1AHntM",
        "outputId": "c9923aed-aabb-4807-b7cf-d7c7064958d5"
      },
      "source": [
        "df_trans.describe()"
      ],
      "execution_count": null,
      "outputs": [
        {
          "output_type": "execute_result",
          "data": {
            "text/html": [
              "<div>\n",
              "<style scoped>\n",
              "    .dataframe tbody tr th:only-of-type {\n",
              "        vertical-align: middle;\n",
              "    }\n",
              "\n",
              "    .dataframe tbody tr th {\n",
              "        vertical-align: top;\n",
              "    }\n",
              "\n",
              "    .dataframe thead th {\n",
              "        text-align: right;\n",
              "    }\n",
              "</style>\n",
              "<table border=\"1\" class=\"dataframe\">\n",
              "  <thead>\n",
              "    <tr style=\"text-align: right;\">\n",
              "      <th></th>\n",
              "      <th>Customer_Age</th>\n",
              "      <th>Gender</th>\n",
              "      <th>Dependent_count</th>\n",
              "      <th>Education_Level</th>\n",
              "      <th>Marital_Status</th>\n",
              "      <th>Income_Category</th>\n",
              "      <th>Card_Category</th>\n",
              "      <th>Months_on_book</th>\n",
              "      <th>Total_Relationship_Count</th>\n",
              "      <th>Months_Inactive_12_mon</th>\n",
              "      <th>Contacts_Count_12_mon</th>\n",
              "      <th>Credit_Limit</th>\n",
              "      <th>Total_Revolving_Bal</th>\n",
              "      <th>Total_Amt_Chng_Q4_Q1</th>\n",
              "      <th>Total_Trans_Amt</th>\n",
              "      <th>Total_Trans_Ct</th>\n",
              "      <th>Total_Ct_Chng_Q4_Q1</th>\n",
              "      <th>Avg_Utilization_Ratio</th>\n",
              "    </tr>\n",
              "  </thead>\n",
              "  <tbody>\n",
              "    <tr>\n",
              "      <th>count</th>\n",
              "      <td>8.443000e+03</td>\n",
              "      <td>8.443000e+03</td>\n",
              "      <td>8.443000e+03</td>\n",
              "      <td>8.443000e+03</td>\n",
              "      <td>8.443000e+03</td>\n",
              "      <td>8.443000e+03</td>\n",
              "      <td>8.443000e+03</td>\n",
              "      <td>8.443000e+03</td>\n",
              "      <td>8.443000e+03</td>\n",
              "      <td>8.443000e+03</td>\n",
              "      <td>8.443000e+03</td>\n",
              "      <td>8.443000e+03</td>\n",
              "      <td>8.443000e+03</td>\n",
              "      <td>8.443000e+03</td>\n",
              "      <td>8.443000e+03</td>\n",
              "      <td>8.443000e+03</td>\n",
              "      <td>8.443000e+03</td>\n",
              "      <td>8.443000e+03</td>\n",
              "    </tr>\n",
              "    <tr>\n",
              "      <th>mean</th>\n",
              "      <td>8.569349e-16</td>\n",
              "      <td>1.305019e-14</td>\n",
              "      <td>7.892669e-16</td>\n",
              "      <td>4.862732e-17</td>\n",
              "      <td>-4.389609e-15</td>\n",
              "      <td>4.084879e-15</td>\n",
              "      <td>1.794872e-15</td>\n",
              "      <td>2.377067e-16</td>\n",
              "      <td>-3.910767e-15</td>\n",
              "      <td>2.220946e-15</td>\n",
              "      <td>-7.461493e-16</td>\n",
              "      <td>-7.103412e-16</td>\n",
              "      <td>-1.425446e-15</td>\n",
              "      <td>3.088847e-17</td>\n",
              "      <td>-2.190202e-16</td>\n",
              "      <td>-8.500864e-16</td>\n",
              "      <td>-1.093350e-16</td>\n",
              "      <td>-4.046929e-16</td>\n",
              "    </tr>\n",
              "    <tr>\n",
              "      <th>std</th>\n",
              "      <td>1.000059e+00</td>\n",
              "      <td>1.000059e+00</td>\n",
              "      <td>1.000059e+00</td>\n",
              "      <td>1.000059e+00</td>\n",
              "      <td>1.000059e+00</td>\n",
              "      <td>1.000059e+00</td>\n",
              "      <td>1.000059e+00</td>\n",
              "      <td>1.000059e+00</td>\n",
              "      <td>1.000059e+00</td>\n",
              "      <td>1.000059e+00</td>\n",
              "      <td>1.000059e+00</td>\n",
              "      <td>1.000059e+00</td>\n",
              "      <td>1.000059e+00</td>\n",
              "      <td>1.000059e+00</td>\n",
              "      <td>1.000059e+00</td>\n",
              "      <td>1.000059e+00</td>\n",
              "      <td>1.000059e+00</td>\n",
              "      <td>1.000059e+00</td>\n",
              "    </tr>\n",
              "    <tr>\n",
              "      <th>min</th>\n",
              "      <td>-2.516485e+00</td>\n",
              "      <td>-8.439365e-01</td>\n",
              "      <td>-1.793062e+00</td>\n",
              "      <td>-1.679159e+00</td>\n",
              "      <td>-1.994456e+00</td>\n",
              "      <td>-2.016801e+00</td>\n",
              "      <td>-1.490523e-01</td>\n",
              "      <td>-2.848473e+00</td>\n",
              "      <td>-1.988089e+00</td>\n",
              "      <td>-2.311689e+00</td>\n",
              "      <td>-2.216149e+00</td>\n",
              "      <td>-8.756708e-01</td>\n",
              "      <td>-1.400131e+00</td>\n",
              "      <td>-3.340313e+00</td>\n",
              "      <td>-1.833369e+00</td>\n",
              "      <td>-2.547022e+00</td>\n",
              "      <td>-2.884254e+00</td>\n",
              "      <td>-1.086972e+00</td>\n",
              "    </tr>\n",
              "    <tr>\n",
              "      <th>25%</th>\n",
              "      <td>-6.693329e-01</td>\n",
              "      <td>-8.439365e-01</td>\n",
              "      <td>-1.022874e+00</td>\n",
              "      <td>-5.898250e-01</td>\n",
              "      <td>-6.275276e-01</td>\n",
              "      <td>-6.558249e-01</td>\n",
              "      <td>-1.490523e-01</td>\n",
              "      <td>-6.195891e-01</td>\n",
              "      <td>-6.484160e-01</td>\n",
              "      <td>-3.462703e-01</td>\n",
              "      <td>-4.170195e-01</td>\n",
              "      <td>-6.958824e-01</td>\n",
              "      <td>-1.400131e+00</td>\n",
              "      <td>-5.916568e-01</td>\n",
              "      <td>-8.718977e-01</td>\n",
              "      <td>-8.982558e-01</td>\n",
              "      <td>-5.623990e-01</td>\n",
              "      <td>-1.086972e+00</td>\n",
              "    </tr>\n",
              "    <tr>\n",
              "      <th>50%</th>\n",
              "      <td>-5.361548e-02</td>\n",
              "      <td>-8.439365e-01</td>\n",
              "      <td>-2.526853e-01</td>\n",
              "      <td>-4.515777e-02</td>\n",
              "      <td>-6.275276e-01</td>\n",
              "      <td>7.051508e-01</td>\n",
              "      <td>-1.490523e-01</td>\n",
              "      <td>-4.546528e-04</td>\n",
              "      <td>2.142081e-02</td>\n",
              "      <td>-3.462703e-01</td>\n",
              "      <td>-4.170195e-01</td>\n",
              "      <td>-4.483973e-01</td>\n",
              "      <td>1.352976e-01</td>\n",
              "      <td>-1.195762e-01</td>\n",
              "      <td>1.297897e-01</td>\n",
              "      <td>2.009215e-01</td>\n",
              "      <td>-6.224471e-02</td>\n",
              "      <td>-2.674386e-01</td>\n",
              "    </tr>\n",
              "    <tr>\n",
              "      <th>75%</th>\n",
              "      <td>6.852455e-01</td>\n",
              "      <td>1.184923e+00</td>\n",
              "      <td>5.175031e-01</td>\n",
              "      <td>1.044177e+00</td>\n",
              "      <td>7.394011e-01</td>\n",
              "      <td>7.051508e-01</td>\n",
              "      <td>-1.490523e-01</td>\n",
              "      <td>6.186798e-01</td>\n",
              "      <td>6.912576e-01</td>\n",
              "      <td>6.364390e-01</td>\n",
              "      <td>4.825450e-01</td>\n",
              "      <td>3.954175e-01</td>\n",
              "      <td>7.629271e-01</td>\n",
              "      <td>4.407437e-01</td>\n",
              "      <td>6.476479e-01</td>\n",
              "      <td>8.004728e-01</td>\n",
              "      <td>4.582411e-01</td>\n",
              "      <td>8.770821e-01</td>\n",
              "    </tr>\n",
              "    <tr>\n",
              "      <th>max</th>\n",
              "      <td>3.271259e+00</td>\n",
              "      <td>1.184923e+00</td>\n",
              "      <td>2.057880e+00</td>\n",
              "      <td>1.588844e+00</td>\n",
              "      <td>2.106330e+00</td>\n",
              "      <td>1.385639e+00</td>\n",
              "      <td>6.920886e+00</td>\n",
              "      <td>2.476083e+00</td>\n",
              "      <td>1.361094e+00</td>\n",
              "      <td>3.584567e+00</td>\n",
              "      <td>3.181239e+00</td>\n",
              "      <td>3.484388e+00</td>\n",
              "      <td>1.679291e+00</td>\n",
              "      <td>1.164714e+01</td>\n",
              "      <td>3.183111e+00</td>\n",
              "      <td>2.599127e+00</td>\n",
              "      <td>1.221797e+01</td>\n",
              "      <td>2.441967e+00</td>\n",
              "    </tr>\n",
              "  </tbody>\n",
              "</table>\n",
              "</div>"
            ],
            "text/plain": [
              "       Customer_Age        Gender  ...  Total_Ct_Chng_Q4_Q1  Avg_Utilization_Ratio\n",
              "count  8.443000e+03  8.443000e+03  ...         8.443000e+03           8.443000e+03\n",
              "mean   8.569349e-16  1.305019e-14  ...        -1.093350e-16          -4.046929e-16\n",
              "std    1.000059e+00  1.000059e+00  ...         1.000059e+00           1.000059e+00\n",
              "min   -2.516485e+00 -8.439365e-01  ...        -2.884254e+00          -1.086972e+00\n",
              "25%   -6.693329e-01 -8.439365e-01  ...        -5.623990e-01          -1.086972e+00\n",
              "50%   -5.361548e-02 -8.439365e-01  ...        -6.224471e-02          -2.674386e-01\n",
              "75%    6.852455e-01  1.184923e+00  ...         4.582411e-01           8.770821e-01\n",
              "max    3.271259e+00  1.184923e+00  ...         1.221797e+01           2.441967e+00\n",
              "\n",
              "[8 rows x 18 columns]"
            ]
          },
          "metadata": {
            "tags": []
          },
          "execution_count": 31
        }
      ]
    },
    {
      "cell_type": "code",
      "metadata": {
        "colab": {
          "base_uri": "https://localhost:8080/",
          "height": 653
        },
        "id": "X1X1IYxb-jyt",
        "outputId": "e423f4a7-5893-4452-8d3f-5adea2f129e5"
      },
      "source": [
        "df_trans.hist(bins=10, figsize = (20,15))\n",
        "plt.show()"
      ],
      "execution_count": null,
      "outputs": [
        {
          "output_type": "display_data",
          "data": {
            "image/png": "[encoded data removed]",
            "text/plain": [
              "<Figure size 1440x1080 with 20 Axes>"
            ]
          },
          "metadata": {
            "tags": [],
            "needs_background": "light"
          }
        }
      ]
    },
    {
      "cell_type": "markdown",
      "metadata": {
        "id": "-vnngvSBLpYp"
      },
      "source": [
        "# **III.Models training:**"
      ]
    },
    {
      "cell_type": "markdown",
      "metadata": {
        "id": "Ls2gxMe9MiaT"
      },
      "source": [
        "We call **x** as our **independent variables** and **y** our **target attribute**, we'll split our dataset into **train set** and **test set**."
      ]
    },
    {
      "cell_type": "code",
      "metadata": {
        "id": "Tsn7SPifLyra"
      },
      "source": [
        "x = df_trans[input_vars]\n",
        "from sklearn.model_selection import train_test_split\n",
        "X_train, X_test, y_train, y_test = train_test_split(x, y, stratify = y, test_size=0.2, random_state=5)"
      ],
      "execution_count": null,
      "outputs": []
    },
    {
      "cell_type": "markdown",
      "metadata": {
        "id": "LbKkjRVGPSEP"
      },
      "source": [
        "We want to keep **20%** of the dataset for testing by assigning **test_size=0.2**, the **random_state** is set to **5** to ensure that the same sequences of random number are generated every time we execute the code.\n",
        "\n",
        "Since there is a big gap between the number of observations of 2 classes of target variable, the dataset will be split using **stratified sampling method** by setting the parameter **stratify = y** to guarantee the data is representative."
      ]
    },
    {
      "cell_type": "markdown",
      "metadata": {
        "id": "3oxRJHLvgx-h"
      },
      "source": [
        "We'll be trying out 4 different classification models:\n",
        "\n",
        "1.   **Logistic Regression**\n",
        "2.   **Decision Tree Classifier**\n",
        "3.   **Support Vector Machine**\n",
        "4.   **XGBoost Classifier**\n",
        "\n"
      ]
    },
    {
      "cell_type": "markdown",
      "metadata": {
        "id": "rVDr0chAMKU9"
      },
      "source": [
        "### **_1. Logistic Regression Model:_**"
      ]
    },
    {
      "cell_type": "code",
      "metadata": {
        "colab": {
          "base_uri": "https://localhost:8080/"
        },
        "id": "nr_90gjrQ5bF",
        "outputId": "9094f2fc-31b3-4bd7-af8a-f7b505a2b730"
      },
      "source": [
        "from sklearn.linear_model import LogisticRegression\n",
        "\n",
        "logistic_regression = LogisticRegression(penalty = 'l2', random_state = 5)\n",
        "logistic_regression.fit(X_train, y_train)"
      ],
      "execution_count": null,
      "outputs": [
        {
          "output_type": "execute_result",
          "data": {
            "text/plain": [
              "LogisticRegression(C=1.0, class_weight=None, dual=False, fit_intercept=True,\n",
              "                   intercept_scaling=1, l1_ratio=None, max_iter=100,\n",
              "                   multi_class='auto', n_jobs=None, penalty='l2',\n",
              "                   random_state=5, solver='lbfgs', tol=0.0001, verbose=0,\n",
              "                   warm_start=False)"
            ]
          },
          "metadata": {
            "tags": []
          },
          "execution_count": 34
        }
      ]
    },
    {
      "cell_type": "markdown",
      "metadata": {
        "id": "0bvdl3UjR9PQ"
      },
      "source": [
        "The logistic regression is created using **`l2 regularization`** and **`random_state=5`**"
      ]
    },
    {
      "cell_type": "code",
      "metadata": {
        "colab": {
          "base_uri": "https://localhost:8080/"
        },
        "id": "X5ieIZ2pSDqc",
        "outputId": "c241d8f2-4a99-4816-b14f-fc860d838f03"
      },
      "source": [
        "from sklearn.metrics import accuracy_score\n",
        "y_predict_lg = logistic_regression.predict(X_test)\n",
        "print(accuracy_score(y_test, y_predict_lg))"
      ],
      "execution_count": null,
      "outputs": [
        {
          "output_type": "stream",
          "text": [
            "0.911190053285968\n"
          ],
          "name": "stdout"
        }
      ]
    },
    {
      "cell_type": "markdown",
      "metadata": {
        "id": "_VLJDmBtOBFN"
      },
      "source": [
        "Here, we will use the **`accuracy`** score to see how accurately the model can predict on the **test set** when trained on the **train set**. \n",
        "\n",
        "As displayed, the **logistic regression model** can predict whether a customer churns or not with the accuracy of ***91.1%***"
      ]
    },
    {
      "cell_type": "markdown",
      "metadata": {
        "id": "I77Y30phV1vJ"
      },
      "source": [
        "Let's check with the result on train set to see if it is overfitting, using 10-fold cross validation"
      ]
    },
    {
      "cell_type": "code",
      "metadata": {
        "colab": {
          "base_uri": "https://localhost:8080/"
        },
        "id": "Zyd4MncYfxZL",
        "outputId": "1caac088-89cb-442c-f39f-b1bfa79ce1b8"
      },
      "source": [
        "from sklearn.model_selection import cross_val_score\n",
        "lg_results1 = cross_val_score(logistic_regression,X_train,y_train,cv=10,scoring='accuracy')\n",
        "lg_results2 = cross_val_score(logistic_regression,X_test,y_test,cv=10,scoring='accuracy')\n",
        "\n",
        "print ('Train score:',lg_results1.mean()*100, '% +/-',lg_results1.std())\n",
        "print ('Test score:',lg_results2.mean()*100, '% +/-',lg_results2.std())"
      ],
      "execution_count": null,
      "outputs": [
        {
          "output_type": "stream",
          "text": [
            "Train score: 90.46491343414422 % +/- 0.005178094157450783\n",
            "Test score: 90.82241476472245 % +/- 0.01280252239349158\n"
          ],
          "name": "stdout"
        }
      ]
    },
    {
      "cell_type": "markdown",
      "metadata": {
        "id": "ZIJIoI-pOR4l"
      },
      "source": [
        "The scores on both training set and test set are **very much the same**, which mean that this model **generalises well** with ***unseen data***."
      ]
    },
    {
      "cell_type": "markdown",
      "metadata": {
        "id": "OkaexmycX-nU"
      },
      "source": [
        "Let's plot a **confusion matrix** to see how many cases were predicted correctly/ incorrectly."
      ]
    },
    {
      "cell_type": "code",
      "metadata": {
        "colab": {
          "base_uri": "https://localhost:8080/",
          "height": 265
        },
        "id": "WI2uovbuV5bi",
        "outputId": "1fe7af35-0e41-4b0e-adc2-531bf4777d30"
      },
      "source": [
        "from sklearn.metrics import confusion_matrix\n",
        "cfm_lg = confusion_matrix(y_test, y_predict_lg)\n",
        "sns.heatmap(cfm_lg, annot=True, fmt=\"d\", linewidths=.5, cmap = 'Reds')\n",
        "plt.show()"
      ],
      "execution_count": null,
      "outputs": [
        {
          "output_type": "display_data",
          "data": {
            "image/png": "[encoded data removed]",
            "text/plain": [
              "<Figure size 432x288 with 2 Axes>"
            ]
          },
          "metadata": {
            "tags": [],
            "needs_background": "light"
          }
        }
      ]
    },
    {
      "cell_type": "markdown",
      "metadata": {
        "id": "l493Lk_eYDYv"
      },
      "source": [
        "The confusion matrix shows us that:  \n",
        "* **182** of them were ***correctly*** classified as ***No***.\n",
        "* *98** were ***wrongly*** classified as ***Yes***.\n",
        "* **52** were ***wrongly*** classified as ***No***\n",
        "* **1357** were ***correctly*** classified as ***Yes***.\n"
      ]
    },
    {
      "cell_type": "markdown",
      "metadata": {
        "id": "1XBzfvXPLjMt"
      },
      "source": [
        "### **_2. Decision Tree Model:_**"
      ]
    },
    {
      "cell_type": "code",
      "metadata": {
        "colab": {
          "base_uri": "https://localhost:8080/"
        },
        "id": "TS8D5proMnD6",
        "outputId": "dafc519d-b1c3-4668-e7f8-3ebd4f277868"
      },
      "source": [
        "from sklearn.tree import DecisionTreeClassifier, plot_tree\n",
        "\n",
        "DTClassifier = DecisionTreeClassifier(max_depth = 5)\n",
        "\n",
        "DTClassifier.fit(X_train,y_train)"
      ],
      "execution_count": null,
      "outputs": [
        {
          "output_type": "execute_result",
          "data": {
            "text/plain": [
              "DecisionTreeClassifier(ccp_alpha=0.0, class_weight=None, criterion='gini',\n",
              "                       max_depth=5, max_features=None, max_leaf_nodes=None,\n",
              "                       min_impurity_decrease=0.0, min_impurity_split=None,\n",
              "                       min_samples_leaf=1, min_samples_split=2,\n",
              "                       min_weight_fraction_leaf=0.0, presort='deprecated',\n",
              "                       random_state=None, splitter='best')"
            ]
          },
          "metadata": {
            "tags": []
          },
          "execution_count": 38
        }
      ]
    },
    {
      "cell_type": "markdown",
      "metadata": {
        "id": "KlzZjzmNaH_B"
      },
      "source": [
        "We'll try and visualize the built Decision Tree"
      ]
    },
    {
      "cell_type": "code",
      "metadata": {
        "colab": {
          "base_uri": "https://localhost:8080/",
          "height": 1000
        },
        "id": "aUXAbLW5PGVG",
        "outputId": "d6c5f22c-7ddf-4beb-d269-42123a1e721e"
      },
      "source": [
        "fig = plt.figure(figsize=(25,20))\n",
        "plot_tree(DTClassifier, \n",
        "                   feature_names=X_train.columns.values,  \n",
        "                   class_names=y_train.name,\n",
        "                   filled=True)"
      ],
      "execution_count": null,
      "outputs": [
        {
          "output_type": "execute_result",
          "data": {
            "text/plain": [
              "[Text(697.5, 996.6, 'Total_Trans_Ct <= -0.324\\ngini = 0.277\\nsamples = 6754\\nvalue = [1121, 5633]\\nclass = t'),\n",
              " Text(348.75, 815.4000000000001, 'Total_Revolving_Bal <= -0.647\\ngini = 0.47\\nsamples = 2528\\nvalue = [952, 1576]\\nclass = t'),\n",
              " Text(174.375, 634.2, 'Total_Trans_Amt <= -1.019\\ngini = 0.37\\nsamples = 824\\nvalue = [622, 202]\\nclass = A'),\n",
              " Text(87.1875, 453.0, 'Total_Relationship_Count <= -0.313\\ngini = 0.495\\nsamples = 286\\nvalue = [157, 129]\\nclass = A'),\n",
              " Text(43.59375, 271.79999999999995, 'Total_Ct_Chng_Q4_Q1 <= 0.436\\ngini = 0.348\\nsamples = 156\\nvalue = [121, 35]\\nclass = A'),\n",
              " Text(21.796875, 90.59999999999991, 'gini = 0.274\\nsamples = 134\\nvalue = [112, 22]\\nclass = A'),\n",
              " Text(65.390625, 90.59999999999991, 'gini = 0.483\\nsamples = 22\\nvalue = [9, 13]\\nclass = t'),\n",
              " Text(130.78125, 271.79999999999995, 'Total_Trans_Amt <= -1.533\\ngini = 0.4\\nsamples = 130\\nvalue = [36, 94]\\nclass = t'),\n",
              " Text(108.984375, 90.59999999999991, 'gini = 0.111\\nsamples = 17\\nvalue = [16, 1]\\nclass = A'),\n",
              " Text(152.578125, 90.59999999999991, 'gini = 0.291\\nsamples = 113\\nvalue = [20, 93]\\nclass = t'),\n",
              " Text(261.5625, 453.0, 'Total_Ct_Chng_Q4_Q1 <= 0.289\\ngini = 0.235\\nsamples = 538\\nvalue = [465, 73]\\nclass = A'),\n",
              " Text(217.96875, 271.79999999999995, 'Customer_Age <= -2.085\\ngini = 0.161\\nsamples = 476\\nvalue = [434, 42]\\nclass = A'),\n",
              " Text(196.171875, 90.59999999999991, 'gini = 0.0\\nsamples = 10\\nvalue = [0, 10]\\nclass = t'),\n",
              " Text(239.765625, 90.59999999999991, 'gini = 0.128\\nsamples = 466\\nvalue = [434, 32]\\nclass = A'),\n",
              " Text(305.15625, 271.79999999999995, 'Total_Amt_Chng_Q4_Q1 <= 1.292\\ngini = 0.5\\nsamples = 62\\nvalue = [31, 31]\\nclass = A'),\n",
              " Text(283.359375, 90.59999999999991, 'gini = 0.482\\nsamples = 52\\nvalue = [31, 21]\\nclass = A'),\n",
              " Text(326.953125, 90.59999999999991, 'gini = 0.0\\nsamples = 10\\nvalue = [0, 10]\\nclass = t'),\n",
              " Text(523.125, 634.2, 'Total_Relationship_Count <= -0.983\\ngini = 0.312\\nsamples = 1704\\nvalue = [330, 1374]\\nclass = t'),\n",
              " Text(435.9375, 453.0, 'Total_Ct_Chng_Q4_Q1 <= 0.918\\ngini = 0.344\\nsamples = 145\\nvalue = [113, 32]\\nclass = A'),\n",
              " Text(392.34375, 271.79999999999995, 'Contacts_Count_12_mon <= -1.766\\ngini = 0.235\\nsamples = 125\\nvalue = [108, 17]\\nclass = A'),\n",
              " Text(370.546875, 90.59999999999991, 'gini = 0.0\\nsamples = 3\\nvalue = [0, 3]\\nclass = t'),\n",
              " Text(414.140625, 90.59999999999991, 'gini = 0.203\\nsamples = 122\\nvalue = [108, 14]\\nclass = A'),\n",
              " Text(479.53125, 271.79999999999995, 'Total_Trans_Amt <= -0.958\\ngini = 0.375\\nsamples = 20\\nvalue = [5, 15]\\nclass = t'),\n",
              " Text(457.734375, 90.59999999999991, 'gini = 0.0\\nsamples = 13\\nvalue = [0, 13]\\nclass = t'),\n",
              " Text(501.328125, 90.59999999999991, 'gini = 0.408\\nsamples = 7\\nvalue = [5, 2]\\nclass = A'),\n",
              " Text(610.3125, 453.0, 'Total_Trans_Amt <= -0.848\\ngini = 0.24\\nsamples = 1559\\nvalue = [217, 1342]\\nclass = t'),\n",
              " Text(566.71875, 271.79999999999995, 'Total_Trans_Amt <= -1.576\\ngini = 0.109\\nsamples = 1173\\nvalue = [68, 1105]\\nclass = t'),\n",
              " Text(544.921875, 90.59999999999991, 'gini = 0.219\\nsamples = 16\\nvalue = [14, 2]\\nclass = A'),\n",
              " Text(588.515625, 90.59999999999991, 'gini = 0.089\\nsamples = 1157\\nvalue = [54, 1103]\\nclass = t'),\n",
              " Text(653.90625, 271.79999999999995, 'Total_Amt_Chng_Q4_Q1 <= 0.589\\ngini = 0.474\\nsamples = 386\\nvalue = [149, 237]\\nclass = t'),\n",
              " Text(632.109375, 90.59999999999991, 'gini = 0.494\\nsamples = 240\\nvalue = [133, 107]\\nclass = A'),\n",
              " Text(675.703125, 90.59999999999991, 'gini = 0.195\\nsamples = 146\\nvalue = [16, 130]\\nclass = t'),\n",
              " Text(1046.25, 815.4000000000001, 'Total_Trans_Amt <= 1.229\\ngini = 0.077\\nsamples = 4226\\nvalue = [169, 4057]\\nclass = t'),\n",
              " Text(871.875, 634.2, 'Total_Trans_Ct <= -0.074\\ngini = 0.036\\nsamples = 3850\\nvalue = [70, 3780]\\nclass = t'),\n",
              " Text(784.6875, 453.0, 'Total_Trans_Amt <= 0.747\\ngini = 0.222\\nsamples = 330\\nvalue = [42, 288]\\nclass = t'),\n",
              " Text(741.09375, 271.79999999999995, 'Total_Revolving_Bal <= -0.936\\ngini = 0.189\\nsamples = 321\\nvalue = [34, 287]\\nclass = t'),\n",
              " Text(719.296875, 90.59999999999991, 'gini = 0.421\\nsamples = 73\\nvalue = [22, 51]\\nclass = t'),\n",
              " Text(762.890625, 90.59999999999991, 'gini = 0.092\\nsamples = 248\\nvalue = [12, 236]\\nclass = t'),\n",
              " Text(828.28125, 271.79999999999995, 'Total_Ct_Chng_Q4_Q1 <= -0.15\\ngini = 0.198\\nsamples = 9\\nvalue = [8, 1]\\nclass = A'),\n",
              " Text(806.484375, 90.59999999999991, 'gini = 0.0\\nsamples = 7\\nvalue = [7, 0]\\nclass = A'),\n",
              " Text(850.078125, 90.59999999999991, 'gini = 0.5\\nsamples = 2\\nvalue = [1, 1]\\nclass = A'),\n",
              " Text(959.0625, 453.0, 'Total_Trans_Amt <= -0.511\\ngini = 0.016\\nsamples = 3520\\nvalue = [28, 3492]\\nclass = t'),\n",
              " Text(915.46875, 271.79999999999995, 'Total_Amt_Chng_Q4_Q1 <= -1.388\\ngini = 0.177\\nsamples = 143\\nvalue = [14, 129]\\nclass = t'),\n",
              " Text(893.671875, 90.59999999999991, 'gini = 0.0\\nsamples = 3\\nvalue = [3, 0]\\nclass = A'),\n",
              " Text(937.265625, 90.59999999999991, 'gini = 0.145\\nsamples = 140\\nvalue = [11, 129]\\nclass = t'),\n",
              " Text(1002.65625, 271.79999999999995, 'Total_Ct_Chng_Q4_Q1 <= -1.329\\ngini = 0.008\\nsamples = 3377\\nvalue = [14, 3363]\\nclass = t'),\n",
              " Text(980.859375, 90.59999999999991, 'gini = 0.0\\nsamples = 1\\nvalue = [1, 0]\\nclass = A'),\n",
              " Text(1024.453125, 90.59999999999991, 'gini = 0.008\\nsamples = 3376\\nvalue = [13, 3363]\\nclass = t'),\n",
              " Text(1220.625, 634.2, 'Total_Trans_Ct <= 0.576\\ngini = 0.388\\nsamples = 376\\nvalue = [99, 277]\\nclass = t'),\n",
              " Text(1133.4375, 453.0, 'Total_Revolving_Bal <= -0.166\\ngini = 0.229\\nsamples = 76\\nvalue = [66, 10]\\nclass = A'),\n",
              " Text(1089.84375, 271.79999999999995, 'Total_Trans_Ct <= 0.526\\ngini = 0.037\\nsamples = 53\\nvalue = [52, 1]\\nclass = A'),\n",
              " Text(1068.046875, 90.59999999999991, 'gini = 0.0\\nsamples = 51\\nvalue = [51, 0]\\nclass = A'),\n",
              " Text(1111.640625, 90.59999999999991, 'gini = 0.5\\nsamples = 2\\nvalue = [1, 1]\\nclass = A'),\n",
              " Text(1177.03125, 271.79999999999995, 'Total_Trans_Amt <= 1.552\\ngini = 0.476\\nsamples = 23\\nvalue = [14, 9]\\nclass = A'),\n",
              " Text(1155.234375, 90.59999999999991, 'gini = 0.0\\nsamples = 4\\nvalue = [0, 4]\\nclass = t'),\n",
              " Text(1198.828125, 90.59999999999991, 'gini = 0.388\\nsamples = 19\\nvalue = [14, 5]\\nclass = A'),\n",
              " Text(1307.8125, 453.0, 'Total_Revolving_Bal <= -0.68\\ngini = 0.196\\nsamples = 300\\nvalue = [33, 267]\\nclass = t'),\n",
              " Text(1264.21875, 271.79999999999995, 'Total_Ct_Chng_Q4_Q1 <= -0.058\\ngini = 0.499\\nsamples = 58\\nvalue = [28, 30]\\nclass = t'),\n",
              " Text(1242.421875, 90.59999999999991, 'gini = 0.147\\nsamples = 25\\nvalue = [2, 23]\\nclass = t'),\n",
              " Text(1286.015625, 90.59999999999991, 'gini = 0.334\\nsamples = 33\\nvalue = [26, 7]\\nclass = A'),\n",
              " Text(1351.40625, 271.79999999999995, 'Total_Relationship_Count <= 1.026\\ngini = 0.04\\nsamples = 242\\nvalue = [5, 237]\\nclass = t'),\n",
              " Text(1329.609375, 90.59999999999991, 'gini = 0.017\\nsamples = 235\\nvalue = [2, 233]\\nclass = t'),\n",
              " Text(1373.203125, 90.59999999999991, 'gini = 0.49\\nsamples = 7\\nvalue = [3, 4]\\nclass = t')]"
            ]
          },
          "metadata": {
            "tags": []
          },
          "execution_count": 39
        },
        {
          "output_type": "display_data",
          "data": {
            "image/png": "[encoded data removed]",
            "text/plain": [
              "<Figure size 1800x1440 with 1 Axes>"
            ]
          },
          "metadata": {
            "tags": [],
            "needs_background": "light"
          }
        }
      ]
    },
    {
      "cell_type": "code",
      "metadata": {
        "colab": {
          "base_uri": "https://localhost:8080/"
        },
        "id": "xw-694lyQlqQ",
        "outputId": "e3375673-d290-49ea-e789-b57b74c21e83"
      },
      "source": [
        "y_predict_dt = DTClassifier.predict(X_test)\n",
        "print(accuracy_score(y_test, y_predict_dt))"
      ],
      "execution_count": null,
      "outputs": [
        {
          "output_type": "stream",
          "text": [
            "0.9325044404973357\n"
          ],
          "name": "stdout"
        }
      ]
    },
    {
      "cell_type": "markdown",
      "metadata": {
        "id": "i_NaLbxDQO_x"
      },
      "source": [
        "As displayed, the **decision tree model** can predict whether a customer churns or not with the accuracy of ***93.2%***"
      ]
    },
    {
      "cell_type": "markdown",
      "metadata": {
        "id": "eBpvX_YyQ4_m"
      },
      "source": [
        "Let's check with the result on train set to see if it is overfitting, using 10-fold cross validation"
      ]
    },
    {
      "cell_type": "code",
      "metadata": {
        "colab": {
          "base_uri": "https://localhost:8080/"
        },
        "id": "OFgB36ylfGDk",
        "outputId": "556694d7-95eb-493d-d14f-67e1a9d2a7a9"
      },
      "source": [
        "c\n",
        "\n",
        "print ('Train score:',dt_results1.mean()*100, '% +/-',dt_results1.std())\n",
        "print ('Test score:',dt_results2.mean()*100, '% +/-',dt_results2.std())"
      ],
      "execution_count": null,
      "outputs": [
        {
          "output_type": "stream",
          "text": [
            "Train score: 92.84913434144204 % +/- 0.008336131001497684\n",
            "Test score: 92.7197802197802 % +/- 0.020296043261629888\n"
          ],
          "name": "stdout"
        }
      ]
    },
    {
      "cell_type": "markdown",
      "metadata": {
        "id": "FEBKs41tQ4_v"
      },
      "source": [
        "The scores on both training set and test set are **also very much the same**, which mean that this model also **generalises well** with ***unseen data***."
      ]
    },
    {
      "cell_type": "markdown",
      "metadata": {
        "id": "4d0Q7U0GQ4_v"
      },
      "source": [
        "Let's plot a **confusion matrix** to see how many cases were predicted correctly/ incorrectly."
      ]
    },
    {
      "cell_type": "code",
      "metadata": {
        "colab": {
          "base_uri": "https://localhost:8080/",
          "height": 265
        },
        "id": "MOzTGglZQ4_w",
        "outputId": "8add836f-4840-46a5-c382-7bac300a8f74"
      },
      "source": [
        "cfm_dt = confusion_matrix(y_test, y_predict_dt)\n",
        "sns.heatmap(cfm_dt, annot=True, fmt=\"d\", linewidths=.5, cmap = 'Reds')\n",
        "plt.show()"
      ],
      "execution_count": null,
      "outputs": [
        {
          "output_type": "display_data",
          "data": {
            "image/png": "[encoded data removed]",
            "text/plain": [
              "<Figure size 432x288 with 2 Axes>"
            ]
          },
          "metadata": {
            "tags": [],
            "needs_background": "light"
          }
        }
      ]
    },
    {
      "cell_type": "markdown",
      "metadata": {
        "id": "i5ND0KdqQ4_x"
      },
      "source": [
        "The confusion matrix shows us that:  \n",
        "* **230** of them were ***correctly*** classified as ***No***.\n",
        "* *50** were ***wrongly*** classified as ***Yes***.\n",
        "* **64** were ***wrongly*** classified as ***No***\n",
        "* **1345** were ***correctly*** classified as ***Yes***.\n"
      ]
    },
    {
      "cell_type": "markdown",
      "metadata": {
        "id": "jpfQddpd8y6U"
      },
      "source": [
        "## **_3. Support Vector Machine:_**"
      ]
    },
    {
      "cell_type": "code",
      "metadata": {
        "id": "VaxBncps9AY6"
      },
      "source": [
        "from sklearn.pipeline import Pipeline\n",
        "from sklearn.preprocessing import StandardScaler\n",
        "from sklearn.svm import SVC\n",
        "\n",
        "steps = [('SVM', SVC(kernel='poly'))]\n",
        "\n",
        "pipeline = Pipeline(steps) # define Pipeline object"
      ],
      "execution_count": null,
      "outputs": []
    },
    {
      "cell_type": "code",
      "metadata": {
        "id": "kAkEnsFO96jT"
      },
      "source": [
        "# To find optimal C and Gamma\n",
        "\n",
        "parameters = {'SVM__C':[0.001, 0.1, 100, 10e5, 1], 'SVM__gamma':[10,1,0.1,0.01, 100]} # Dictionary where values are lists\n",
        "\n",
        "# Initiate GridSearchCV with 5 folds cross validation\n",
        "\n",
        "from sklearn.model_selection import GridSearchCV\n",
        "\n",
        "grid = GridSearchCV(pipeline, param_grid =parameters, cv=5 )"
      ],
      "execution_count": null,
      "outputs": []
    },
    {
      "cell_type": "code",
      "metadata": {
        "id": "bykzyBHr9_NM",
        "colab": {
          "base_uri": "https://localhost:8080/"
        },
        "outputId": "7a298c6b-9410-474e-f046-099b4a279cc9"
      },
      "source": [
        "# Here, we're trying to find the best values for C and gamma, which will take quite a bit of time to process\n",
        "grid.fit(X_train,y_train)\n",
        "\n",
        "print (\"score = \", grid.score(X_test,y_test))\n",
        "\n",
        "print (grid.best_params_)"
      ],
      "execution_count": null,
      "outputs": [
        {
          "output_type": "stream",
          "text": [
            "score =  0.9230313795145056\n",
            "{'SVM__C': 0.001, 'SVM__gamma': 1}\n"
          ],
          "name": "stdout"
        }
      ]
    },
    {
      "cell_type": "code",
      "metadata": {
        "id": "9-Mpf0Or-QJT"
      },
      "source": [
        "#Using the newly-found combination of ideal values for C and Gamma, we can then build a SVM model\n",
        "steps_with_parameters = [('SVM', SVC(kernel='poly', C=0.001, gamma=1))]\n",
        "\n",
        "poly_kernel_svm_clf = Pipeline (steps_with_parameters)"
      ],
      "execution_count": null,
      "outputs": []
    },
    {
      "cell_type": "code",
      "metadata": {
        "colab": {
          "base_uri": "https://localhost:8080/"
        },
        "id": "BGmWLH-N-XQb",
        "outputId": "7adfe63e-d13f-4334-ce31-b6513a47246c"
      },
      "source": [
        "poly_kernel_svm_clf.fit(X_train,y_train)"
      ],
      "execution_count": null,
      "outputs": [
        {
          "output_type": "execute_result",
          "data": {
            "text/plain": [
              "Pipeline(memory=None,\n",
              "         steps=[('SVM',\n",
              "                 SVC(C=0.001, break_ties=False, cache_size=200,\n",
              "                     class_weight=None, coef0=0.0,\n",
              "                     decision_function_shape='ovr', degree=3, gamma=1,\n",
              "                     kernel='poly', max_iter=-1, probability=False,\n",
              "                     random_state=None, shrinking=True, tol=0.001,\n",
              "                     verbose=False))],\n",
              "         verbose=False)"
            ]
          },
          "metadata": {
            "tags": []
          },
          "execution_count": 47
        }
      ]
    },
    {
      "cell_type": "code",
      "metadata": {
        "colab": {
          "base_uri": "https://localhost:8080/"
        },
        "id": "vlSe6Dq9ZNMa",
        "outputId": "b07fd633-1770-4984-e031-54963c431a1e"
      },
      "source": [
        "y_predict_svm = poly_kernel_svm_clf.predict(X_test)\n",
        "print(accuracy_score(y_test, y_predict_svm))"
      ],
      "execution_count": null,
      "outputs": [
        {
          "output_type": "stream",
          "text": [
            "0.9230313795145056\n"
          ],
          "name": "stdout"
        }
      ]
    },
    {
      "cell_type": "markdown",
      "metadata": {
        "id": "gyC71TbZZNMg"
      },
      "source": [
        "As displayed, the **SVM model** can predict whether a customer churns or not with the accuracy of ***92.3%***"
      ]
    },
    {
      "cell_type": "markdown",
      "metadata": {
        "id": "LTKwCy1xZNMi"
      },
      "source": [
        "Let's check with the result on train set to see if it is overfitting, using 10-fold cross validation"
      ]
    },
    {
      "cell_type": "code",
      "metadata": {
        "colab": {
          "base_uri": "https://localhost:8080/"
        },
        "id": "XNU3v49FdXKD",
        "outputId": "40468d31-1b65-41ed-80b9-7b406e76bd32"
      },
      "source": [
        "svm_results1 = cross_val_score(poly_kernel_svm_clf,X_train,y_train,cv=10,scoring='accuracy')\n",
        "svm_results2 = cross_val_score(poly_kernel_svm_clf,X_test,y_test,cv=10,scoring='accuracy')\n",
        "\n",
        "print ('Train score:',svm_results1.mean()*100, '% +/-',svm_results1.std())\n",
        "print ('Test score:',svm_results2.mean()*100, '% +/-',svm_results2.std())"
      ],
      "execution_count": null,
      "outputs": [
        {
          "output_type": "stream",
          "text": [
            "Train score: 92.21222879684419 % +/- 0.007117380794824106\n",
            "Test score: 90.11235559312482 % +/- 0.019280312136307678\n"
          ],
          "name": "stdout"
        }
      ]
    },
    {
      "cell_type": "markdown",
      "metadata": {
        "id": "jnc9RjhfZNMj"
      },
      "source": [
        "The scores on both training set and test set have **only a bit of difference**, which mean that this model **generalises relatively well** with ***unseen data***."
      ]
    },
    {
      "cell_type": "markdown",
      "metadata": {
        "id": "55WsXGpFZNMk"
      },
      "source": [
        "Let's plot a **confusion matrix** to see how many cases were predicted correctly/ incorrectly."
      ]
    },
    {
      "cell_type": "code",
      "metadata": {
        "colab": {
          "base_uri": "https://localhost:8080/",
          "height": 265
        },
        "id": "K6P0Q2SVZNMl",
        "outputId": "404052f8-3061-4023-8c84-a17d76d43669"
      },
      "source": [
        "cfm_svm = confusion_matrix(y_test, y_predict_svm)\n",
        "sns.heatmap(cfm_svm, annot=True, fmt=\"d\", linewidths=.5, cmap = 'Reds')\n",
        "plt.show()"
      ],
      "execution_count": null,
      "outputs": [
        {
          "output_type": "display_data",
          "data": {
            "image/png": "[encoded data removed]",
            "text/plain": [
              "<Figure size 432x288 with 2 Axes>"
            ]
          },
          "metadata": {
            "tags": [],
            "needs_background": "light"
          }
        }
      ]
    },
    {
      "cell_type": "markdown",
      "metadata": {
        "id": "wwyOnngHZNMm"
      },
      "source": [
        "The confusion matrix shows us that:  \n",
        "* **195** of them were ***correctly*** classified as ***No***.\n",
        "* *85** were ***wrongly*** classified as ***Yes***.\n",
        "* **45** were ***wrongly*** classified as ***No***\n",
        "* **1364** were ***correctly*** classified as ***Yes***."
      ]
    },
    {
      "cell_type": "markdown",
      "metadata": {
        "id": "LxnwqhChwNdv"
      },
      "source": [
        "## **_4. XGBoost Classifier:_**"
      ]
    },
    {
      "cell_type": "code",
      "metadata": {
        "colab": {
          "base_uri": "https://localhost:8080/"
        },
        "id": "VskBS-VWwRfn",
        "outputId": "31913d3c-b6ac-4eee-e299-9b6121124ba7"
      },
      "source": [
        "from xgboost import XGBClassifier\n",
        "XGB_model = XGBClassifier()\n",
        "XGB_model.fit(X_train,y_train)"
      ],
      "execution_count": null,
      "outputs": [
        {
          "output_type": "execute_result",
          "data": {
            "text/plain": [
              "XGBClassifier(base_score=0.5, booster='gbtree', colsample_bylevel=1,\n",
              "              colsample_bynode=1, colsample_bytree=1, gamma=0,\n",
              "              learning_rate=0.1, max_delta_step=0, max_depth=3,\n",
              "              min_child_weight=1, missing=None, n_estimators=100, n_jobs=1,\n",
              "              nthread=None, objective='binary:logistic', random_state=0,\n",
              "              reg_alpha=0, reg_lambda=1, scale_pos_weight=1, seed=None,\n",
              "              silent=None, subsample=1, verbosity=1)"
            ]
          },
          "metadata": {
            "tags": []
          },
          "execution_count": 51
        }
      ]
    },
    {
      "cell_type": "markdown",
      "metadata": {
        "id": "KcV93oQswko1"
      },
      "source": [
        "Here, we will use the model's default value for 'n_estimators' of 100.\n",
        "Meaning it will automatically build 100 trees for this single model"
      ]
    },
    {
      "cell_type": "markdown",
      "metadata": {
        "id": "hb4oCOrIw59H"
      },
      "source": [
        "Let's see how well the model be able to perform classification on our dataset."
      ]
    },
    {
      "cell_type": "code",
      "metadata": {
        "colab": {
          "base_uri": "https://localhost:8080/"
        },
        "id": "wcYAHAZcwVVN",
        "outputId": "8d19e3b5-a09f-4e9d-f618-05e1fbb5c56d"
      },
      "source": [
        "y_predict_xgb = XGB_model.predict(X_test)\n",
        "print(accuracy_score(y_test, y_predict_xgb))"
      ],
      "execution_count": null,
      "outputs": [
        {
          "output_type": "stream",
          "text": [
            "0.9656601539372409\n"
          ],
          "name": "stdout"
        }
      ]
    },
    {
      "cell_type": "markdown",
      "metadata": {
        "id": "YP8QXyZVxGOg"
      },
      "source": [
        "As displayed, the **XGBoost model** can predict whether a customer churns or not with the accuracy of ***96.5%***"
      ]
    },
    {
      "cell_type": "markdown",
      "metadata": {
        "id": "7lqxMOV6xVAd"
      },
      "source": [
        "Let's check with the result on train set to see if it is overfitting, using 10-fold cross validation"
      ]
    },
    {
      "cell_type": "code",
      "metadata": {
        "colab": {
          "base_uri": "https://localhost:8080/"
        },
        "id": "BtWLujsCxVAf",
        "outputId": "d23eb6e4-ee88-4534-c492-cce02240767f"
      },
      "source": [
        "xgb_results1 = cross_val_score(XGB_model,X_train,y_train,cv=10,scoring='accuracy')\n",
        "xgb_results2 = cross_val_score(XGB_model,X_test,y_test,cv=10,scoring='accuracy')\n",
        "\n",
        "print ('Train score:',xgb_results1.mean()*100, '% +/-',xgb_results1.std())\n",
        "print ('Test score:',xgb_results2.mean()*100, '% +/-',xgb_results2.std())"
      ],
      "execution_count": null,
      "outputs": [
        {
          "output_type": "stream",
          "text": [
            "Train score: 96.47580539119002 % +/- 0.005709543726233141\n",
            "Test score: 95.61883629191324 % +/- 0.016982169058085386\n"
          ],
          "name": "stdout"
        }
      ]
    },
    {
      "cell_type": "markdown",
      "metadata": {
        "id": "BMQx_dOwxVAg"
      },
      "source": [
        "The scores on both training set and test set are **also very much the same**, which mean that this model also **generalises well** with ***unseen data***."
      ]
    },
    {
      "cell_type": "markdown",
      "metadata": {
        "id": "sjTZq4lVxVAg"
      },
      "source": [
        "Let's plot a **confusion matrix** to see how many cases were predicted correctly/ incorrectly."
      ]
    },
    {
      "cell_type": "code",
      "metadata": {
        "colab": {
          "base_uri": "https://localhost:8080/",
          "height": 265
        },
        "id": "WEQMesjAxVAg",
        "outputId": "ac3a4f08-666d-4c88-cadc-b1728d73e0bf"
      },
      "source": [
        "cfm_xgb = confusion_matrix(y_test, y_predict_xgb)\n",
        "sns.heatmap(cfm_xgb, annot=True, fmt=\"d\", linewidths=.5, cmap = 'Reds')\n",
        "plt.show()"
      ],
      "execution_count": null,
      "outputs": [
        {
          "output_type": "display_data",
          "data": {
            "image/png": "[encoded data removed]",
            "text/plain": [
              "<Figure size 432x288 with 2 Axes>"
            ]
          },
          "metadata": {
            "tags": [],
            "needs_background": "light"
          }
        }
      ]
    },
    {
      "cell_type": "markdown",
      "metadata": {
        "id": "KOu7eooMxVAh"
      },
      "source": [
        "The confusion matrix shows us that:  \n",
        "* **240** of them were ***correctly*** classified as ***No***.\n",
        "* *40** were ***wrongly*** classified as ***Yes***.\n",
        "* **18** were ***wrongly*** classified as ***No***\n",
        "* **1391** were ***correctly*** classified as ***Yes***.\n"
      ]
    },
    {
      "cell_type": "markdown",
      "metadata": {
        "id": "_OBZ9qcRa3Wm"
      },
      "source": [
        "# **IV. Conclusion**\n",
        "In this project, we have used 4 different ML algorithms to predict whether a customer will churn or not. The performance, measured using 10-fold Cross Validation method, is as followed (*ranked in descending order*):\n",
        "1.  **XGBoost Classifier**: approx. ***95.6%***\n",
        "2.  **Decision Tree Classifier**: approx. ***92.6%***\n",
        "3.  **Logistic Regression**: approx. ***90.8%***\n",
        "4.  **Support Vector Machine**: approx. ***90.1%***\n",
        "\n",
        "\n",
        "Overall, all four models seem to perform well - a little too well - on this dataset with only little to no signs of overfitting. \n",
        "\n",
        "Further tuning to the hyperparameter of each model **AND** trying out other methods, such as *SGD Classifer, AdaBoost Classifier and  Linear SVC* could also be an improvement to the results at hand. \n",
        "\n",
        "Additionally, we can try and rebuild the models using a different dataset, with different features (possibly), as the dataset's author described themselves: *'We have only 16.07% of customers who have churned. Thus, it's a bit difficult to train our model to predict churning customers.'*"
      ]
    },
    {
      "cell_type": "markdown",
      "metadata": {
        "id": "Bm59Gl8I0jkE"
      },
      "source": [
        "# **Reference**\n",
        "https://www.kaggle.com/sakshigoyal7/credit-card-customers\n"
      ]
    }
  ]
}